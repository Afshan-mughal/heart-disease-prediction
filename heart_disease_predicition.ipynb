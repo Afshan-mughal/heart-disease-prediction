{
  "nbformat": 4,
  "nbformat_minor": 0,
  "metadata": {
    "colab": {
      "provenance": []
    },
    "kernelspec": {
      "display_name": "Python 3",
      "name": "python3"
    }
  },
  "cells": [
    {
      "cell_type": "markdown",
      "metadata": {
        "id": "9Fy_UqcYnh6d"
      },
      "source": [
        "### *import packages*"
      ]
    },
    {
      "cell_type": "code",
      "metadata": {
        "id": "vkYZJN1ZtZW6"
      },
      "source": [
        "import warnings\n",
        "warnings.filterwarnings('ignore')\n",
        "\n",
        "# data wrangling and pre processing\n",
        "import pandas as pd\n",
        "import numpy as np\n",
        "\n",
        "# data visualization\n",
        "import matplotlib.pyplot as plt\n",
        "%matplotlib inline\n",
        "import seaborn as sns\n",
        "\n",
        "from sklearn.model_selection import train_test_split\n",
        "\n",
        "# model validation\n",
        "from sklearn.metrics import log_loss,roc_auc_score,precision_score,f1_score,recall_score,roc_curve,auc\n",
        "from sklearn.metrics import classification_report,confusion_matrix,accuracy_score,fbeta_score,matthews_corrcoef\n",
        "from sklearn import metrics\n",
        "\n",
        "# cross validation\n",
        "from sklearn.model_selection import StratifiedKFold\n",
        "\n",
        "# machine learning algorithms\n",
        "from sklearn.linear_model import LogisticRegression\n",
        "from sklearn.ensemble import RandomForestClassifier,VotingClassifier,AdaBoostClassifier,GradientBoostingClassifier,RandomForestClassifier\n",
        "from sklearn.neural_network import MLPClassifier\n",
        "from sklearn.tree import DecisionTreeClassifier\n",
        "from sklearn.linear_model import SGDClassifier\n",
        "from sklearn.svm import SVC\n",
        "import xgboost as xgb\n",
        "\n",
        "from scipy import stats"
      ],
      "execution_count": null,
      "outputs": []
    },
    {
      "cell_type": "markdown",
      "metadata": {
        "id": "RQhS-ScN9fQf"
      },
      "source": [
        "# loading dataset"
      ]
    },
    {
      "cell_type": "code",
      "metadata": {
        "colab": {
          "resources": {
            "http://localhost:8080/nbextensions/google.colab/files.js": {
              "data": "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",
              "ok": true,
              "headers": [
                [
                  "content-type",
                  "application/javascript"
                ]
              ],
              "status": 200,
              "status_text": ""
            }
          },
          "base_uri": "https://localhost:8080/",
          "height": 73
        },
        "id": "JCxDOoyR9kk0",
        "outputId": "f4c8b954-28de-4cbb-cfe6-44594b46ed63"
      },
      "source": [
        "from google.colab import files\n",
        "dp = files.upload()\n"
      ],
      "execution_count": null,
      "outputs": [
        {
          "output_type": "display_data",
          "data": {
            "text/html": [
              "\n",
              "     <input type=\"file\" id=\"files-e419a89a-87ee-4bca-88d1-c8e662a7c37f\" name=\"files[]\" multiple disabled\n",
              "        style=\"border:none\" />\n",
              "     <output id=\"result-e419a89a-87ee-4bca-88d1-c8e662a7c37f\">\n",
              "      Upload widget is only available when the cell has been executed in the\n",
              "      current browser session. Please rerun this cell to enable.\n",
              "      </output>\n",
              "      <script src=\"/nbextensions/google.colab/files.js\"></script> "
            ],
            "text/plain": [
              "<IPython.core.display.HTML object>"
            ]
          },
          "metadata": {
            "tags": []
          }
        },
        {
          "output_type": "stream",
          "text": [
            "Saving heart_statlog_cleveland_hungary_final.csv to heart_statlog_cleveland_hungary_final (3).csv\n"
          ],
          "name": "stdout"
        }
      ]
    },
    {
      "cell_type": "code",
      "metadata": {
        "id": "0tffmi8m3heu"
      },
      "source": [
        "import io\n",
        "df1 = pd.read_csv(io.BytesIO(dp['heart_statlog_cleveland_hungary_final.csv']))"
      ],
      "execution_count": null,
      "outputs": []
    },
    {
      "cell_type": "code",
      "metadata": {
        "colab": {
          "base_uri": "https://localhost:8080/",
          "height": 197
        },
        "id": "V_0af94A1_OE",
        "outputId": "22671274-67fa-4471-e817-8f333a8bf781"
      },
      "source": [
        "df1.head()"
      ],
      "execution_count": null,
      "outputs": [
        {
          "output_type": "execute_result",
          "data": {
            "text/html": [
              "<div>\n",
              "<style scoped>\n",
              "    .dataframe tbody tr th:only-of-type {\n",
              "        vertical-align: middle;\n",
              "    }\n",
              "\n",
              "    .dataframe tbody tr th {\n",
              "        vertical-align: top;\n",
              "    }\n",
              "\n",
              "    .dataframe thead th {\n",
              "        text-align: right;\n",
              "    }\n",
              "</style>\n",
              "<table border=\"1\" class=\"dataframe\">\n",
              "  <thead>\n",
              "    <tr style=\"text-align: right;\">\n",
              "      <th></th>\n",
              "      <th>age</th>\n",
              "      <th>sex</th>\n",
              "      <th>chest pain type</th>\n",
              "      <th>resting bp s</th>\n",
              "      <th>cholesterol</th>\n",
              "      <th>fasting blood sugar</th>\n",
              "      <th>resting ecg</th>\n",
              "      <th>max heart rate</th>\n",
              "      <th>exercise angina</th>\n",
              "      <th>oldpeak</th>\n",
              "      <th>ST slope</th>\n",
              "      <th>target</th>\n",
              "    </tr>\n",
              "  </thead>\n",
              "  <tbody>\n",
              "    <tr>\n",
              "      <th>0</th>\n",
              "      <td>40</td>\n",
              "      <td>1</td>\n",
              "      <td>2</td>\n",
              "      <td>140</td>\n",
              "      <td>289</td>\n",
              "      <td>0</td>\n",
              "      <td>0</td>\n",
              "      <td>172</td>\n",
              "      <td>0</td>\n",
              "      <td>0.0</td>\n",
              "      <td>1</td>\n",
              "      <td>0</td>\n",
              "    </tr>\n",
              "    <tr>\n",
              "      <th>1</th>\n",
              "      <td>49</td>\n",
              "      <td>0</td>\n",
              "      <td>3</td>\n",
              "      <td>160</td>\n",
              "      <td>180</td>\n",
              "      <td>0</td>\n",
              "      <td>0</td>\n",
              "      <td>156</td>\n",
              "      <td>0</td>\n",
              "      <td>1.0</td>\n",
              "      <td>2</td>\n",
              "      <td>1</td>\n",
              "    </tr>\n",
              "    <tr>\n",
              "      <th>2</th>\n",
              "      <td>37</td>\n",
              "      <td>1</td>\n",
              "      <td>2</td>\n",
              "      <td>130</td>\n",
              "      <td>283</td>\n",
              "      <td>0</td>\n",
              "      <td>1</td>\n",
              "      <td>98</td>\n",
              "      <td>0</td>\n",
              "      <td>0.0</td>\n",
              "      <td>1</td>\n",
              "      <td>0</td>\n",
              "    </tr>\n",
              "    <tr>\n",
              "      <th>3</th>\n",
              "      <td>48</td>\n",
              "      <td>0</td>\n",
              "      <td>4</td>\n",
              "      <td>138</td>\n",
              "      <td>214</td>\n",
              "      <td>0</td>\n",
              "      <td>0</td>\n",
              "      <td>108</td>\n",
              "      <td>1</td>\n",
              "      <td>1.5</td>\n",
              "      <td>2</td>\n",
              "      <td>1</td>\n",
              "    </tr>\n",
              "    <tr>\n",
              "      <th>4</th>\n",
              "      <td>54</td>\n",
              "      <td>1</td>\n",
              "      <td>3</td>\n",
              "      <td>150</td>\n",
              "      <td>195</td>\n",
              "      <td>0</td>\n",
              "      <td>0</td>\n",
              "      <td>122</td>\n",
              "      <td>0</td>\n",
              "      <td>0.0</td>\n",
              "      <td>1</td>\n",
              "      <td>0</td>\n",
              "    </tr>\n",
              "  </tbody>\n",
              "</table>\n",
              "</div>"
            ],
            "text/plain": [
              "   age  sex  chest pain type  ...  oldpeak  ST slope  target\n",
              "0   40    1                2  ...      0.0         1       0\n",
              "1   49    0                3  ...      1.0         2       1\n",
              "2   37    1                2  ...      0.0         1       0\n",
              "3   48    0                4  ...      1.5         2       1\n",
              "4   54    1                3  ...      0.0         1       0\n",
              "\n",
              "[5 rows x 12 columns]"
            ]
          },
          "metadata": {
            "tags": []
          },
          "execution_count": 189
        }
      ]
    },
    {
      "cell_type": "markdown",
      "metadata": {
        "id": "f4kGgRVw9Qcy"
      },
      "source": [
        "# data cleaning and preprocessing"
      ]
    },
    {
      "cell_type": "markdown",
      "metadata": {
        "id": "INDVZNGW9BvC"
      },
      "source": []
    },
    {
      "cell_type": "code",
      "metadata": {
        "id": "tjxxmZJa1uwu"
      },
      "source": [
        "# renaming features to the proper name\n",
        "df1.columns = ['age', 'sex','chest_pain_type', 'resting_blood_pressure', 'cholesterol', 'fasting_blood_sugar', 'rest_ecg', 'max_heart_rate', 'exercise_induced_angina', 'st_depression', 'st_slope','target']"
      ],
      "execution_count": null,
      "outputs": []
    },
    {
      "cell_type": "code",
      "metadata": {
        "id": "u4POFnrH9biv"
      },
      "source": [
        "# converting features to categorical features\n",
        "df1['chest_pain_type'][df1['chest_pain_type'] == 1] = 'typical angina'\n",
        "df1['chest_pain_type'][df1['chest_pain_type'] == 2] = 'atypical angina'\n",
        "df1['chest_pain_type'][df1['chest_pain_type'] == 3] = 'non-anginal pain'\n",
        "df1['chest_pain_type'][df1['chest_pain_type'] == 4] = 'asymptomatic'\n",
        "\n",
        "\n",
        "\n",
        "df1['rest_ecg'][df1['rest_ecg'] == 0] = 'normal'\n",
        "df1['rest_ecg'][df1['rest_ecg'] == 1] = 'ST-T wave abnormality'\n",
        "df1['rest_ecg'][df1['rest_ecg'] == 2] = 'left ventricular hypertropy'\n",
        "\n",
        "\n",
        "\n",
        "df1['st_slope'][df1['st_slope'] == 1] = 'upsloping'\n",
        "df1['st_slope'][df1['st_slope'] == 2] = 'flat'\n",
        "df1['st_slope'][df1['st_slope'] == 3] = 'downsloping'\n",
        "\n",
        "\n",
        "\n",
        "\n",
        "df1[\"sex\"] = df1.sex.apply(lambda x:'male' if x==1 else 'female')"
      ],
      "execution_count": null,
      "outputs": []
    },
    {
      "cell_type": "code",
      "metadata": {
        "colab": {
          "base_uri": "https://localhost:8080/"
        },
        "id": "ESH8ZNpwB4Df",
        "outputId": "54800319-b3f3-4a4d-e662-2404352060a8"
      },
      "source": [
        "df1['chest_pain_type'].value_counts()"
      ],
      "execution_count": null,
      "outputs": [
        {
          "output_type": "execute_result",
          "data": {
            "text/plain": [
              "asymptomatic        625\n",
              "non-anginal pain    283\n",
              "atypical angina     216\n",
              "typical angina       66\n",
              "Name: chest_pain_type, dtype: int64"
            ]
          },
          "metadata": {
            "tags": []
          },
          "execution_count": 192
        }
      ]
    },
    {
      "cell_type": "code",
      "metadata": {
        "colab": {
          "base_uri": "https://localhost:8080/"
        },
        "id": "U4UjZQOoCJMK",
        "outputId": "4c464a06-6632-41d4-b9b9-434eb3838354"
      },
      "source": [
        "df1['rest_ecg'].value_counts()"
      ],
      "execution_count": null,
      "outputs": [
        {
          "output_type": "execute_result",
          "data": {
            "text/plain": [
              "normal                         684\n",
              "left ventricular hypertropy    325\n",
              "ST-T wave abnormality          181\n",
              "Name: rest_ecg, dtype: int64"
            ]
          },
          "metadata": {
            "tags": []
          },
          "execution_count": 193
        }
      ]
    },
    {
      "cell_type": "code",
      "metadata": {
        "colab": {
          "base_uri": "https://localhost:8080/"
        },
        "id": "A16DTxbnCXxS",
        "outputId": "471594bc-7cff-4009-ae91-2f71f39eefc0"
      },
      "source": [
        "df1['st_slope'].value_counts()"
      ],
      "execution_count": null,
      "outputs": [
        {
          "output_type": "execute_result",
          "data": {
            "text/plain": [
              "flat           582\n",
              "upsloping      526\n",
              "downsloping     81\n",
              "0                1\n",
              "Name: st_slope, dtype: int64"
            ]
          },
          "metadata": {
            "tags": []
          },
          "execution_count": 194
        }
      ]
    },
    {
      "cell_type": "code",
      "metadata": {
        "colab": {
          "base_uri": "https://localhost:8080/"
        },
        "id": "SylqOsgJCrL1",
        "outputId": "74c13530-f0a7-4d2d-cbaa-fc81cf424b87"
      },
      "source": [
        "# dropping row with st_slope =0\n",
        "df1.drop(df1[df1.st_slope ==0].index, inplace=True)\n",
        "\n",
        "# checking distribution\n",
        "df1['st_slope'].value_counts()"
      ],
      "execution_count": null,
      "outputs": [
        {
          "output_type": "execute_result",
          "data": {
            "text/plain": [
              "flat           582\n",
              "upsloping      526\n",
              "downsloping     81\n",
              "Name: st_slope, dtype: int64"
            ]
          },
          "metadata": {
            "tags": []
          },
          "execution_count": 195
        }
      ]
    },
    {
      "cell_type": "code",
      "metadata": {
        "colab": {
          "base_uri": "https://localhost:8080/",
          "height": 214
        },
        "id": "syW6bxtHDlMU",
        "outputId": "0fcdfa98-080f-4a32-d091-180779c3b6bb"
      },
      "source": [
        "# checking the top 5 entries of dataset after feature encoding\n",
        "df1.head()"
      ],
      "execution_count": null,
      "outputs": [
        {
          "output_type": "execute_result",
          "data": {
            "text/html": [
              "<div>\n",
              "<style scoped>\n",
              "    .dataframe tbody tr th:only-of-type {\n",
              "        vertical-align: middle;\n",
              "    }\n",
              "\n",
              "    .dataframe tbody tr th {\n",
              "        vertical-align: top;\n",
              "    }\n",
              "\n",
              "    .dataframe thead th {\n",
              "        text-align: right;\n",
              "    }\n",
              "</style>\n",
              "<table border=\"1\" class=\"dataframe\">\n",
              "  <thead>\n",
              "    <tr style=\"text-align: right;\">\n",
              "      <th></th>\n",
              "      <th>age</th>\n",
              "      <th>sex</th>\n",
              "      <th>chest_pain_type</th>\n",
              "      <th>resting_blood_pressure</th>\n",
              "      <th>cholesterol</th>\n",
              "      <th>fasting_blood_sugar</th>\n",
              "      <th>rest_ecg</th>\n",
              "      <th>max_heart_rate</th>\n",
              "      <th>exercise_induced_angina</th>\n",
              "      <th>st_depression</th>\n",
              "      <th>st_slope</th>\n",
              "      <th>target</th>\n",
              "    </tr>\n",
              "  </thead>\n",
              "  <tbody>\n",
              "    <tr>\n",
              "      <th>0</th>\n",
              "      <td>40</td>\n",
              "      <td>male</td>\n",
              "      <td>atypical angina</td>\n",
              "      <td>140</td>\n",
              "      <td>289</td>\n",
              "      <td>0</td>\n",
              "      <td>normal</td>\n",
              "      <td>172</td>\n",
              "      <td>0</td>\n",
              "      <td>0.0</td>\n",
              "      <td>upsloping</td>\n",
              "      <td>0</td>\n",
              "    </tr>\n",
              "    <tr>\n",
              "      <th>1</th>\n",
              "      <td>49</td>\n",
              "      <td>female</td>\n",
              "      <td>non-anginal pain</td>\n",
              "      <td>160</td>\n",
              "      <td>180</td>\n",
              "      <td>0</td>\n",
              "      <td>normal</td>\n",
              "      <td>156</td>\n",
              "      <td>0</td>\n",
              "      <td>1.0</td>\n",
              "      <td>flat</td>\n",
              "      <td>1</td>\n",
              "    </tr>\n",
              "    <tr>\n",
              "      <th>2</th>\n",
              "      <td>37</td>\n",
              "      <td>male</td>\n",
              "      <td>atypical angina</td>\n",
              "      <td>130</td>\n",
              "      <td>283</td>\n",
              "      <td>0</td>\n",
              "      <td>ST-T wave abnormality</td>\n",
              "      <td>98</td>\n",
              "      <td>0</td>\n",
              "      <td>0.0</td>\n",
              "      <td>upsloping</td>\n",
              "      <td>0</td>\n",
              "    </tr>\n",
              "    <tr>\n",
              "      <th>3</th>\n",
              "      <td>48</td>\n",
              "      <td>female</td>\n",
              "      <td>asymptomatic</td>\n",
              "      <td>138</td>\n",
              "      <td>214</td>\n",
              "      <td>0</td>\n",
              "      <td>normal</td>\n",
              "      <td>108</td>\n",
              "      <td>1</td>\n",
              "      <td>1.5</td>\n",
              "      <td>flat</td>\n",
              "      <td>1</td>\n",
              "    </tr>\n",
              "    <tr>\n",
              "      <th>4</th>\n",
              "      <td>54</td>\n",
              "      <td>male</td>\n",
              "      <td>non-anginal pain</td>\n",
              "      <td>150</td>\n",
              "      <td>195</td>\n",
              "      <td>0</td>\n",
              "      <td>normal</td>\n",
              "      <td>122</td>\n",
              "      <td>0</td>\n",
              "      <td>0.0</td>\n",
              "      <td>upsloping</td>\n",
              "      <td>0</td>\n",
              "    </tr>\n",
              "  </tbody>\n",
              "</table>\n",
              "</div>"
            ],
            "text/plain": [
              "   age     sex   chest_pain_type  ...  st_depression   st_slope  target\n",
              "0   40    male   atypical angina  ...            0.0  upsloping       0\n",
              "1   49  female  non-anginal pain  ...            1.0       flat       1\n",
              "2   37    male   atypical angina  ...            0.0  upsloping       0\n",
              "3   48  female      asymptomatic  ...            1.5       flat       1\n",
              "4   54    male  non-anginal pain  ...            0.0  upsloping       0\n",
              "\n",
              "[5 rows x 12 columns]"
            ]
          },
          "metadata": {
            "tags": []
          },
          "execution_count": 196
        }
      ]
    },
    {
      "cell_type": "code",
      "metadata": {
        "colab": {
          "base_uri": "https://localhost:8080/"
        },
        "id": "x6ydGlNwEnqd",
        "outputId": "0844a70d-8df4-4697-e7a0-3ab7e88f78d7"
      },
      "source": [
        "# checking missing entries in the dataset columnwise\n",
        "df1.isna().sum()"
      ],
      "execution_count": null,
      "outputs": [
        {
          "output_type": "execute_result",
          "data": {
            "text/plain": [
              "age                        0\n",
              "sex                        0\n",
              "chest_pain_type            0\n",
              "resting_blood_pressure     0\n",
              "cholesterol                0\n",
              "fasting_blood_sugar        0\n",
              "rest_ecg                   0\n",
              "max_heart_rate             0\n",
              "exercise_induced_angina    0\n",
              "st_depression              0\n",
              "st_slope                   0\n",
              "target                     0\n",
              "dtype: int64"
            ]
          },
          "metadata": {
            "tags": []
          },
          "execution_count": 197
        }
      ]
    },
    {
      "cell_type": "markdown",
      "metadata": {
        "id": "VBmKsmqRFGCn"
      },
      "source": [
        "Exploratory data analysis(EDA)"
      ]
    },
    {
      "cell_type": "code",
      "metadata": {
        "colab": {
          "base_uri": "https://localhost:8080/"
        },
        "id": "reij465AFSYv",
        "outputId": "8f44ca5c-7f94-44db-9395-a9ecaede519c"
      },
      "source": [
        "# first checking the shape of the dataset\n",
        "df1.shape"
      ],
      "execution_count": null,
      "outputs": [
        {
          "output_type": "execute_result",
          "data": {
            "text/plain": [
              "(1189, 12)"
            ]
          },
          "metadata": {
            "tags": []
          },
          "execution_count": 198
        }
      ]
    },
    {
      "cell_type": "code",
      "metadata": {
        "colab": {
          "base_uri": "https://localhost:8080/",
          "height": 287
        },
        "id": "gUoYeJrrFe1v",
        "outputId": "d2298303-84f8-48e7-be8f-3f7e270ee848"
      },
      "source": [
        "# summary statistics of numerical columns\n",
        "df1.describe(include =[np.number])"
      ],
      "execution_count": null,
      "outputs": [
        {
          "output_type": "execute_result",
          "data": {
            "text/html": [
              "<div>\n",
              "<style scoped>\n",
              "    .dataframe tbody tr th:only-of-type {\n",
              "        vertical-align: middle;\n",
              "    }\n",
              "\n",
              "    .dataframe tbody tr th {\n",
              "        vertical-align: top;\n",
              "    }\n",
              "\n",
              "    .dataframe thead th {\n",
              "        text-align: right;\n",
              "    }\n",
              "</style>\n",
              "<table border=\"1\" class=\"dataframe\">\n",
              "  <thead>\n",
              "    <tr style=\"text-align: right;\">\n",
              "      <th></th>\n",
              "      <th>age</th>\n",
              "      <th>resting_blood_pressure</th>\n",
              "      <th>cholesterol</th>\n",
              "      <th>fasting_blood_sugar</th>\n",
              "      <th>max_heart_rate</th>\n",
              "      <th>exercise_induced_angina</th>\n",
              "      <th>st_depression</th>\n",
              "      <th>target</th>\n",
              "    </tr>\n",
              "  </thead>\n",
              "  <tbody>\n",
              "    <tr>\n",
              "      <th>count</th>\n",
              "      <td>1189.000000</td>\n",
              "      <td>1189.000000</td>\n",
              "      <td>1189.000000</td>\n",
              "      <td>1189.000000</td>\n",
              "      <td>1189.000000</td>\n",
              "      <td>1189.000000</td>\n",
              "      <td>1189.000000</td>\n",
              "      <td>1189.000000</td>\n",
              "    </tr>\n",
              "    <tr>\n",
              "      <th>mean</th>\n",
              "      <td>53.708158</td>\n",
              "      <td>132.138772</td>\n",
              "      <td>210.376787</td>\n",
              "      <td>0.212784</td>\n",
              "      <td>139.739277</td>\n",
              "      <td>0.387721</td>\n",
              "      <td>0.923549</td>\n",
              "      <td>0.528175</td>\n",
              "    </tr>\n",
              "    <tr>\n",
              "      <th>std</th>\n",
              "      <td>9.352961</td>\n",
              "      <td>18.369251</td>\n",
              "      <td>101.462185</td>\n",
              "      <td>0.409448</td>\n",
              "      <td>25.527386</td>\n",
              "      <td>0.487435</td>\n",
              "      <td>1.086464</td>\n",
              "      <td>0.499416</td>\n",
              "    </tr>\n",
              "    <tr>\n",
              "      <th>min</th>\n",
              "      <td>28.000000</td>\n",
              "      <td>0.000000</td>\n",
              "      <td>0.000000</td>\n",
              "      <td>0.000000</td>\n",
              "      <td>60.000000</td>\n",
              "      <td>0.000000</td>\n",
              "      <td>-2.600000</td>\n",
              "      <td>0.000000</td>\n",
              "    </tr>\n",
              "    <tr>\n",
              "      <th>25%</th>\n",
              "      <td>47.000000</td>\n",
              "      <td>120.000000</td>\n",
              "      <td>188.000000</td>\n",
              "      <td>0.000000</td>\n",
              "      <td>121.000000</td>\n",
              "      <td>0.000000</td>\n",
              "      <td>0.000000</td>\n",
              "      <td>0.000000</td>\n",
              "    </tr>\n",
              "    <tr>\n",
              "      <th>50%</th>\n",
              "      <td>54.000000</td>\n",
              "      <td>130.000000</td>\n",
              "      <td>229.000000</td>\n",
              "      <td>0.000000</td>\n",
              "      <td>141.000000</td>\n",
              "      <td>0.000000</td>\n",
              "      <td>0.600000</td>\n",
              "      <td>1.000000</td>\n",
              "    </tr>\n",
              "    <tr>\n",
              "      <th>75%</th>\n",
              "      <td>60.000000</td>\n",
              "      <td>140.000000</td>\n",
              "      <td>270.000000</td>\n",
              "      <td>0.000000</td>\n",
              "      <td>160.000000</td>\n",
              "      <td>1.000000</td>\n",
              "      <td>1.600000</td>\n",
              "      <td>1.000000</td>\n",
              "    </tr>\n",
              "    <tr>\n",
              "      <th>max</th>\n",
              "      <td>77.000000</td>\n",
              "      <td>200.000000</td>\n",
              "      <td>603.000000</td>\n",
              "      <td>1.000000</td>\n",
              "      <td>202.000000</td>\n",
              "      <td>1.000000</td>\n",
              "      <td>6.200000</td>\n",
              "      <td>1.000000</td>\n",
              "    </tr>\n",
              "  </tbody>\n",
              "</table>\n",
              "</div>"
            ],
            "text/plain": [
              "               age  resting_blood_pressure  ...  st_depression       target\n",
              "count  1189.000000             1189.000000  ...    1189.000000  1189.000000\n",
              "mean     53.708158              132.138772  ...       0.923549     0.528175\n",
              "std       9.352961               18.369251  ...       1.086464     0.499416\n",
              "min      28.000000                0.000000  ...      -2.600000     0.000000\n",
              "25%      47.000000              120.000000  ...       0.000000     0.000000\n",
              "50%      54.000000              130.000000  ...       0.600000     1.000000\n",
              "75%      60.000000              140.000000  ...       1.600000     1.000000\n",
              "max      77.000000              200.000000  ...       6.200000     1.000000\n",
              "\n",
              "[8 rows x 8 columns]"
            ]
          },
          "metadata": {
            "tags": []
          },
          "execution_count": 199
        }
      ]
    },
    {
      "cell_type": "code",
      "metadata": {
        "colab": {
          "base_uri": "https://localhost:8080/",
          "height": 167
        },
        "id": "uMTFTusYZhML",
        "outputId": "5b80ddf0-8d7b-48aa-c2ac-3d2fcfb87c75"
      },
      "source": [
        "# summary statistics of categorical columns\n",
        "df1.describe(include =[np.object])"
      ],
      "execution_count": null,
      "outputs": [
        {
          "output_type": "execute_result",
          "data": {
            "text/html": [
              "<div>\n",
              "<style scoped>\n",
              "    .dataframe tbody tr th:only-of-type {\n",
              "        vertical-align: middle;\n",
              "    }\n",
              "\n",
              "    .dataframe tbody tr th {\n",
              "        vertical-align: top;\n",
              "    }\n",
              "\n",
              "    .dataframe thead th {\n",
              "        text-align: right;\n",
              "    }\n",
              "</style>\n",
              "<table border=\"1\" class=\"dataframe\">\n",
              "  <thead>\n",
              "    <tr style=\"text-align: right;\">\n",
              "      <th></th>\n",
              "      <th>sex</th>\n",
              "      <th>chest_pain_type</th>\n",
              "      <th>rest_ecg</th>\n",
              "      <th>st_slope</th>\n",
              "    </tr>\n",
              "  </thead>\n",
              "  <tbody>\n",
              "    <tr>\n",
              "      <th>count</th>\n",
              "      <td>1189</td>\n",
              "      <td>1189</td>\n",
              "      <td>1189</td>\n",
              "      <td>1189</td>\n",
              "    </tr>\n",
              "    <tr>\n",
              "      <th>unique</th>\n",
              "      <td>2</td>\n",
              "      <td>4</td>\n",
              "      <td>3</td>\n",
              "      <td>3</td>\n",
              "    </tr>\n",
              "    <tr>\n",
              "      <th>top</th>\n",
              "      <td>male</td>\n",
              "      <td>asymptomatic</td>\n",
              "      <td>normal</td>\n",
              "      <td>flat</td>\n",
              "    </tr>\n",
              "    <tr>\n",
              "      <th>freq</th>\n",
              "      <td>908</td>\n",
              "      <td>625</td>\n",
              "      <td>683</td>\n",
              "      <td>582</td>\n",
              "    </tr>\n",
              "  </tbody>\n",
              "</table>\n",
              "</div>"
            ],
            "text/plain": [
              "         sex chest_pain_type rest_ecg st_slope\n",
              "count   1189            1189     1189     1189\n",
              "unique     2               4        3        3\n",
              "top     male    asymptomatic   normal     flat\n",
              "freq     908             625      683      582"
            ]
          },
          "metadata": {
            "tags": []
          },
          "execution_count": 200
        }
      ]
    },
    {
      "cell_type": "code",
      "metadata": {
        "id": "hOVwGolddKA0"
      },
      "source": [
        "from matplotlib.figure import Figure"
      ],
      "execution_count": null,
      "outputs": []
    },
    {
      "cell_type": "markdown",
      "metadata": {
        "id": "5b2cl5ryaHT3"
      },
      "source": [
        "# distribution of heart disease(target variable)"
      ]
    },
    {
      "cell_type": "code",
      "metadata": {
        "colab": {
          "base_uri": "https://localhost:8080/",
          "height": 390
        },
        "id": "ewGqFucNaXEa",
        "outputId": "8fec6f26-712e-487f-f468-77b9b7bffbc2"
      },
      "source": [
        "# plotting attrition of employees\n",
        "fig, (ax1, ax2) = plt.subplots(nrows=1, ncols=2, sharey=False, figsize=(14,6))\n",
        "\n",
        "ax1 = df1['target'].value_counts().plot.pie(x=\"heart disease\" , y = 'no.of patients', autopct = \"%1.0f%%\",labels = [\"heart disease\",\"normal\"],startangle = 60, ax = ax1);\n",
        "ax1.set(title = 'percentageof heart disease patients in dataset')\n",
        "\n",
        "ax2 = df1[\"target\"].value_counts().plot(kind = \"barh\", ax = ax2)\n",
        "for i,j in enumerate(df1[\"target\"].value_counts().values):\n",
        "    ax2.text(.5,i,j,fontsize=12)\n",
        "ax2.set(title = 'no heart disease patient in dataset')\n",
        "plt.show()"
      ],
      "execution_count": null,
      "outputs": [
        {
          "output_type": "display_data",
          "data": {
            "image/png": "[encoded data removed]",
            "text/plain": [
              "<Figure size 1008x432 with 2 Axes>"
            ]
          },
          "metadata": {
            "tags": [],
            "needs_background": "light"
          }
        }
      ]
    },
    {
      "cell_type": "markdown",
      "metadata": {
        "id": "BKrsmkyieb2_"
      },
      "source": [
        "# checking gender and agewise distribution"
      ]
    },
    {
      "cell_type": "code",
      "metadata": {
        "colab": {
          "base_uri": "https://localhost:8080/",
          "height": 727
        },
        "id": "_ah5TozAeZi3",
        "outputId": "31734066-b083-4fe4-a6a0-7f9c96e5a1a0"
      },
      "source": [
        "plt.figure(figsize=(18,12))\n",
        "plt.subplot(221)\n",
        "df1[\"sex\"].value_counts().plot.pie(autopct = \"%1.0f%%\", colors = sns.color_palette(\"prism\",5),startangle = 60,labels = [\"male\",\"female\"],wedgeprops={\"linewidth\":2,\"edgecolor\":\"k\"},explode=[0.1,0.1],shadow = True)\n",
        "plt.title(\"distribution of gender\")\n",
        "plt.subplot(222)\n",
        "ax= sns.displot(df1['age'], rug=True)\n",
        "plt.title(\"age wise distribution\")\n",
        "plt.show()"
      ],
      "execution_count": null,
      "outputs": [
        {
          "output_type": "display_data",
          "data": {
            "image/png": "[encoded data removed]",
            "text/plain": [
              "<Figure size 1296x864 with 2 Axes>"
            ]
          },
          "metadata": {
            "tags": [],
            "needs_background": "light"
          }
        },
        {
          "output_type": "display_data",
          "data": {
            "image/png": "[encoded data removed]",
            "text/plain": [
              "<Figure size 360x360 with 1 Axes>"
            ]
          },
          "metadata": {
            "tags": [],
            "needs_background": "light"
          }
        }
      ]
    },
    {
      "cell_type": "code",
      "metadata": {
        "colab": {
          "base_uri": "https://localhost:8080/",
          "height": 1000
        },
        "id": "yS-6W0kOaFIs",
        "outputId": "08c0a922-a13e-4d56-bd1c-6791585e4f46"
      },
      "source": [
        "# creating seperate data frequency for normal and heart patients\n",
        "\n",
        "attr_1 = df1[df1['target']==1]\n",
        "\n",
        "attr_0 = df1[df1['target']==0]\n",
        "\n",
        "#plotting normal patients\n",
        "fig = plt.figure(figsize=(15,5))\n",
        "ax1 = plt.subplot2grid((1,2),(0,0))\n",
        "sns.displot(attr_0['age'])\n",
        "plt.title('age distribution of normal patients', fontsize=15, weight='bold')\n",
        "\n",
        "ax1 = plt.subplot2grid((1,2),(0,1))\n",
        "sns.countplot(attr_0['sex'], palette='viridis')\n",
        "plt.title('gender distribution of normal patients', fontsize=15, weight='bold')\n",
        "plt.show()\n",
        "\n",
        "# plotting heart patients\n",
        "\n",
        "fig = plt.figure(figsize=(15,5))\n",
        "ax1 = plt.subplot2grid((1,2),(0,0))\n",
        "sns.displot(attr_1['age'])\n",
        "plt.title('gender distribution of normal patients', fontsize=15, weight = 'bold')\n",
        "\n",
        "ax1 = plt.subplot2grid((1,2),(0,1))\n",
        "sns.countplot(attr_1['sex'], palette = 'viridis')\n",
        "plt.title('gender distribution of heart disease patients',fontsize=15, weight='bold')\n",
        "plt.show()"
      ],
      "execution_count": null,
      "outputs": [
        {
          "output_type": "display_data",
          "data": {
            "image/png": "[encoded data removed]",
            "text/plain": [
              "<Figure size 1080x360 with 1 Axes>"
            ]
          },
          "metadata": {
            "tags": [],
            "needs_background": "light"
          }
        },
        {
          "output_type": "display_data",
          "data": {
            "image/png": "[encoded data removed]",
            "text/plain": [
              "<Figure size 360x360 with 1 Axes>"
            ]
          },
          "metadata": {
            "tags": [],
            "needs_background": "light"
          }
        },
        {
          "output_type": "display_data",
          "data": {
            "image/png": "[encoded data removed]",
            "text/plain": [
              "<Figure size 1080x360 with 1 Axes>"
            ]
          },
          "metadata": {
            "tags": [],
            "needs_background": "light"
          }
        },
        {
          "output_type": "display_data",
          "data": {
            "image/png": "[encoded data removed]",
            "text/plain": [
              "<Figure size 360x360 with 1 Axes>"
            ]
          },
          "metadata": {
            "tags": [],
            "needs_background": "light"
          }
        }
      ]
    },
    {
      "cell_type": "markdown",
      "metadata": {
        "id": "JgPCKCKZlZcO"
      },
      "source": [
        "# distribution of chest pain type"
      ]
    },
    {
      "cell_type": "code",
      "metadata": {
        "colab": {
          "base_uri": "https://localhost:8080/",
          "height": 353
        },
        "id": "NCDTLi4klhXK",
        "outputId": "60dce9ce-cf6e-48ac-f26a-12156f59ab59"
      },
      "source": [
        "# plotting normal patients\n",
        "fig = plt.figure(figsize=(15,5))\n",
        "ax1 = plt.subplot2grid((1,2),(0,0))\n",
        "sns.countplot(attr_0['chest_pain_type'])\n",
        "plt.title('chest pain of normal patients',fontsize=15,weight='bold')\n",
        "\n",
        "# plotting heart patients\n",
        "ax1 = plt.subplot2grid((1,2),(0,1))\n",
        "sns.countplot(attr_1['chest_pain_type'],palette = 'viridis')\n",
        "plt.title('chest pain of heart patients', fontsize=15,weight='bold')\n",
        "plt.show()"
      ],
      "execution_count": null,
      "outputs": [
        {
          "output_type": "display_data",
          "data": {
            "image/png": "[encoded data removed]",
            "text/plain": [
              "<Figure size 1080x360 with 2 Axes>"
            ]
          },
          "metadata": {
            "tags": [],
            "needs_background": "light"
          }
        }
      ]
    },
    {
      "cell_type": "code",
      "metadata": {
        "colab": {
          "base_uri": "https://localhost:8080/",
          "height": 124
        },
        "id": "0GXZdpKgnks8",
        "outputId": "5d1af923-d7b6-47f8-ddd6-1837dfab4897"
      },
      "source": [
        "# exploring the heart disease patients bad=sed on chest pain type\n",
        "plot_criteria= ['chest_pain_type', 'target']\n",
        "cm = sns.light_palette(\"red\", as_cmap=True)\n",
        "(round(pd.crosstab(df1[plot_criteria[0]],df1[plot_criteria[1]], normalize='columns') * 100,2)).style.background_gradient(cmap = cm)"
      ],
      "execution_count": null,
      "outputs": [
        {
          "output_type": "execute_result",
          "data": {
            "text/html": [
              "<style  type=\"text/css\" >\n",
              "#T_c472a152_af2e_11eb_8e66_0242ac1c0002row0_col0{\n",
              "            background-color:  #fb5050;\n",
              "            color:  #000000;\n",
              "        }#T_c472a152_af2e_11eb_8e66_0242ac1c0002row0_col1,#T_c472a152_af2e_11eb_8e66_0242ac1c0002row2_col0{\n",
              "            background-color:  #ff0000;\n",
              "            color:  #f1f1f1;\n",
              "        }#T_c472a152_af2e_11eb_8e66_0242ac1c0002row1_col0{\n",
              "            background-color:  #fe0c0c;\n",
              "            color:  #f1f1f1;\n",
              "        }#T_c472a152_af2e_11eb_8e66_0242ac1c0002row1_col1{\n",
              "            background-color:  #f3eded;\n",
              "            color:  #000000;\n",
              "        }#T_c472a152_af2e_11eb_8e66_0242ac1c0002row2_col1{\n",
              "            background-color:  #f4cfcf;\n",
              "            color:  #000000;\n",
              "        }#T_c472a152_af2e_11eb_8e66_0242ac1c0002row3_col0,#T_c472a152_af2e_11eb_8e66_0242ac1c0002row3_col1{\n",
              "            background-color:  #f3f0f0;\n",
              "            color:  #000000;\n",
              "        }</style><table id=\"T_c472a152_af2e_11eb_8e66_0242ac1c0002\" ><thead>    <tr>        <th class=\"index_name level0\" >target</th>        <th class=\"col_heading level0 col0\" >0</th>        <th class=\"col_heading level0 col1\" >1</th>    </tr>    <tr>        <th class=\"index_name level0\" >chest_pain_type</th>        <th class=\"blank\" ></th>        <th class=\"blank\" ></th>    </tr></thead><tbody>\n",
              "                <tr>\n",
              "                        <th id=\"T_c472a152_af2e_11eb_8e66_0242ac1c0002level0_row0\" class=\"row_heading level0 row0\" >asymptomatic</th>\n",
              "                        <td id=\"T_c472a152_af2e_11eb_8e66_0242ac1c0002row0_col0\" class=\"data row0 col0\" >25.310000</td>\n",
              "                        <td id=\"T_c472a152_af2e_11eb_8e66_0242ac1c0002row0_col1\" class=\"data row0 col1\" >76.910000</td>\n",
              "            </tr>\n",
              "            <tr>\n",
              "                        <th id=\"T_c472a152_af2e_11eb_8e66_0242ac1c0002level0_row1\" class=\"row_heading level0 row1\" >atypical angina</th>\n",
              "                        <td id=\"T_c472a152_af2e_11eb_8e66_0242ac1c0002row1_col0\" class=\"data row1 col0\" >32.980000</td>\n",
              "                        <td id=\"T_c472a152_af2e_11eb_8e66_0242ac1c0002row1_col1\" class=\"data row1 col1\" >4.940000</td>\n",
              "            </tr>\n",
              "            <tr>\n",
              "                        <th id=\"T_c472a152_af2e_11eb_8e66_0242ac1c0002level0_row2\" class=\"row_heading level0 row2\" >non-anginal pain</th>\n",
              "                        <td id=\"T_c472a152_af2e_11eb_8e66_0242ac1c0002row2_col0\" class=\"data row2 col0\" >34.400000</td>\n",
              "                        <td id=\"T_c472a152_af2e_11eb_8e66_0242ac1c0002row2_col1\" class=\"data row2 col1\" >14.170000</td>\n",
              "            </tr>\n",
              "            <tr>\n",
              "                        <th id=\"T_c472a152_af2e_11eb_8e66_0242ac1c0002level0_row3\" class=\"row_heading level0 row3\" >typical angina</th>\n",
              "                        <td id=\"T_c472a152_af2e_11eb_8e66_0242ac1c0002row3_col0\" class=\"data row3 col0\" >7.310000</td>\n",
              "                        <td id=\"T_c472a152_af2e_11eb_8e66_0242ac1c0002row3_col1\" class=\"data row3 col1\" >3.980000</td>\n",
              "            </tr>\n",
              "    </tbody></table>"
            ],
            "text/plain": [
              "<pandas.io.formats.style.Styler at 0x7f4dd4595a50>"
            ]
          },
          "metadata": {
            "tags": []
          },
          "execution_count": 206
        }
      ]
    },
    {
      "cell_type": "markdown",
      "metadata": {
        "id": "iqUoOYYBpSwj"
      },
      "source": [
        "# destribution of rest ECG"
      ]
    },
    {
      "cell_type": "code",
      "metadata": {
        "colab": {
          "base_uri": "https://localhost:8080/",
          "height": 352
        },
        "id": "0VsWlxnLpMwq",
        "outputId": "7fe332e0-8884-440d-9045-48f547a99e25"
      },
      "source": [
        "# plotting normal patients\n",
        "fig = plt.figure(figsize=(15,5))\n",
        "ax1 = plt.subplot2grid((1,2),(0,0))\n",
        "sns.countplot(attr_0['rest_ecg'])\n",
        "plt.title('rest ecg of normal patients',fontsize=15, weight='bold')\n",
        "\n",
        "# plotting heart patients\n",
        "ax1 = plt.subplot2grid((1,2),(0,1))\n",
        "sns.countplot(attr_1['rest_ecg'],palette='viridis')\n",
        "plt.title('rest ecg of heart patients', fontsize=15,weight='bold')\n",
        "plt.show()"
      ],
      "execution_count": null,
      "outputs": [
        {
          "output_type": "display_data",
          "data": {
            "image/png": "[encoded data removed]",
            "text/plain": [
              "<Figure size 1080x360 with 2 Axes>"
            ]
          },
          "metadata": {
            "tags": [],
            "needs_background": "light"
          }
        }
      ]
    },
    {
      "cell_type": "code",
      "metadata": {
        "colab": {
          "base_uri": "https://localhost:8080/",
          "height": 106
        },
        "id": "flE5EC_fcegz",
        "outputId": "a73c8658-ef31-485f-ecb8-1ae92e52c05d"
      },
      "source": [
        "# exploring the heart disease patients base on rest ecg\n",
        "plot_criteria = ['rest_ecg', 'target']\n",
        "cm = sns.light_palette(\"red\",as_cmap=True)\n",
        "(round(pd.crosstab(df1[plot_criteria[0]],df1[plot_criteria[1]],normalize='columns') * 100,2)).style.background_gradient(cmap = cm)"
      ],
      "execution_count": null,
      "outputs": [
        {
          "output_type": "execute_result",
          "data": {
            "text/html": [
              "<style  type=\"text/css\" >\n",
              "#T_c4a212f2_af2e_11eb_8e66_0242ac1c0002row0_col0,#T_c4a212f2_af2e_11eb_8e66_0242ac1c0002row0_col1{\n",
              "            background-color:  #f3f0f0;\n",
              "            color:  #000000;\n",
              "        }#T_c4a212f2_af2e_11eb_8e66_0242ac1c0002row1_col0{\n",
              "            background-color:  #f6abab;\n",
              "            color:  #000000;\n",
              "        }#T_c4a212f2_af2e_11eb_8e66_0242ac1c0002row1_col1{\n",
              "            background-color:  #f6acac;\n",
              "            color:  #000000;\n",
              "        }#T_c4a212f2_af2e_11eb_8e66_0242ac1c0002row2_col0,#T_c4a212f2_af2e_11eb_8e66_0242ac1c0002row2_col1{\n",
              "            background-color:  #ff0000;\n",
              "            color:  #f1f1f1;\n",
              "        }</style><table id=\"T_c4a212f2_af2e_11eb_8e66_0242ac1c0002\" ><thead>    <tr>        <th class=\"index_name level0\" >target</th>        <th class=\"col_heading level0 col0\" >0</th>        <th class=\"col_heading level0 col1\" >1</th>    </tr>    <tr>        <th class=\"index_name level0\" >rest_ecg</th>        <th class=\"blank\" ></th>        <th class=\"blank\" ></th>    </tr></thead><tbody>\n",
              "                <tr>\n",
              "                        <th id=\"T_c4a212f2_af2e_11eb_8e66_0242ac1c0002level0_row0\" class=\"row_heading level0 row0\" >ST-T wave abnormality</th>\n",
              "                        <td id=\"T_c4a212f2_af2e_11eb_8e66_0242ac1c0002row0_col0\" class=\"data row0 col0\" >11.050000</td>\n",
              "                        <td id=\"T_c4a212f2_af2e_11eb_8e66_0242ac1c0002row0_col1\" class=\"data row0 col1\" >18.950000</td>\n",
              "            </tr>\n",
              "            <tr>\n",
              "                        <th id=\"T_c4a212f2_af2e_11eb_8e66_0242ac1c0002level0_row1\" class=\"row_heading level0 row1\" >left ventricular hypertropy</th>\n",
              "                        <td id=\"T_c4a212f2_af2e_11eb_8e66_0242ac1c0002row1_col0\" class=\"data row1 col0\" >26.020000</td>\n",
              "                        <td id=\"T_c4a212f2_af2e_11eb_8e66_0242ac1c0002row1_col1\" class=\"data row1 col1\" >28.500000</td>\n",
              "            </tr>\n",
              "            <tr>\n",
              "                        <th id=\"T_c4a212f2_af2e_11eb_8e66_0242ac1c0002level0_row2\" class=\"row_heading level0 row2\" >normal</th>\n",
              "                        <td id=\"T_c4a212f2_af2e_11eb_8e66_0242ac1c0002row2_col0\" class=\"data row2 col0\" >62.920000</td>\n",
              "                        <td id=\"T_c4a212f2_af2e_11eb_8e66_0242ac1c0002row2_col1\" class=\"data row2 col1\" >52.550000</td>\n",
              "            </tr>\n",
              "    </tbody></table>"
            ],
            "text/plain": [
              "<pandas.io.formats.style.Styler at 0x7f4dd44a2950>"
            ]
          },
          "metadata": {
            "tags": []
          },
          "execution_count": 208
        }
      ]
    },
    {
      "cell_type": "code",
      "metadata": {
        "colab": {
          "base_uri": "https://localhost:8080/",
          "height": 353
        },
        "id": "9KaA2fhYdtoW",
        "outputId": "e5246dab-3a75-474a-8a5d-66c9afd860e6"
      },
      "source": [
        "# plotting normal patients\n",
        "fig = plt.figure(figsize=(15,5))\n",
        "ax1 = plt.subplot2grid((1,2),(0,0))\n",
        "sns.countplot(attr_0['st_slope'])\n",
        "plt.title('st slope of normal patients',fontsize=15,weight='bold')\n",
        "\n",
        "# plottting heart patients\n",
        "ax1 = plt.subplot2grid((1,2),(0,1))\n",
        "sns.countplot(attr_1['st_slope'],palette='viridis')\n",
        "plt.title('st slope of heart disease patients', fontsize=15, weight='bold')\n",
        "plt.show()"
      ],
      "execution_count": null,
      "outputs": [
        {
          "output_type": "display_data",
          "data": {
            "image/png": "[encoded data removed]",
            "text/plain": [
              "<Figure size 1080x360 with 2 Axes>"
            ]
          },
          "metadata": {
            "tags": [],
            "needs_background": "light"
          }
        }
      ]
    },
    {
      "cell_type": "code",
      "metadata": {
        "colab": {
          "base_uri": "https://localhost:8080/",
          "height": 106
        },
        "id": "woi_rZlGfN9e",
        "outputId": "2a8a1d72-5bb8-4672-cc77-c604df727583"
      },
      "source": [
        "# exploring the heart disease patients based on st slope\n",
        "plot_criteria = ['st_slope','target']\n",
        "cm = sns.light_palette(\"red\",as_cmap=True)\n",
        "(round(pd.crosstab(df1[plot_criteria[0]],df1[plot_criteria[1]],normalize='columns') * 100,2)).style.background_gradient(cmap = cm)\n"
      ],
      "execution_count": null,
      "outputs": [
        {
          "output_type": "execute_result",
          "data": {
            "text/html": [
              "<style  type=\"text/css\" >\n",
              "#T_c4d34368_af2e_11eb_8e66_0242ac1c0002row0_col0,#T_c4d34368_af2e_11eb_8e66_0242ac1c0002row0_col1{\n",
              "            background-color:  #f3f0f0;\n",
              "            color:  #000000;\n",
              "        }#T_c4d34368_af2e_11eb_8e66_0242ac1c0002row1_col0{\n",
              "            background-color:  #f6b3b3;\n",
              "            color:  #000000;\n",
              "        }#T_c4d34368_af2e_11eb_8e66_0242ac1c0002row1_col1,#T_c4d34368_af2e_11eb_8e66_0242ac1c0002row2_col0{\n",
              "            background-color:  #ff0000;\n",
              "            color:  #f1f1f1;\n",
              "        }#T_c4d34368_af2e_11eb_8e66_0242ac1c0002row2_col1{\n",
              "            background-color:  #f4d2d2;\n",
              "            color:  #000000;\n",
              "        }</style><table id=\"T_c4d34368_af2e_11eb_8e66_0242ac1c0002\" ><thead>    <tr>        <th class=\"index_name level0\" >target</th>        <th class=\"col_heading level0 col0\" >0</th>        <th class=\"col_heading level0 col1\" >1</th>    </tr>    <tr>        <th class=\"index_name level0\" >st_slope</th>        <th class=\"blank\" ></th>        <th class=\"blank\" ></th>    </tr></thead><tbody>\n",
              "                <tr>\n",
              "                        <th id=\"T_c4d34368_af2e_11eb_8e66_0242ac1c0002level0_row0\" class=\"row_heading level0 row0\" >downsloping</th>\n",
              "                        <td id=\"T_c4d34368_af2e_11eb_8e66_0242ac1c0002row0_col0\" class=\"data row0 col0\" >3.920000</td>\n",
              "                        <td id=\"T_c4d34368_af2e_11eb_8e66_0242ac1c0002row0_col1\" class=\"data row0 col1\" >9.390000</td>\n",
              "            </tr>\n",
              "            <tr>\n",
              "                        <th id=\"T_c4d34368_af2e_11eb_8e66_0242ac1c0002level0_row1\" class=\"row_heading level0 row1\" >flat</th>\n",
              "                        <td id=\"T_c4d34368_af2e_11eb_8e66_0242ac1c0002row1_col0\" class=\"data row1 col0\" >21.930000</td>\n",
              "                        <td id=\"T_c4d34368_af2e_11eb_8e66_0242ac1c0002row1_col1\" class=\"data row1 col1\" >73.090000</td>\n",
              "            </tr>\n",
              "            <tr>\n",
              "                        <th id=\"T_c4d34368_af2e_11eb_8e66_0242ac1c0002level0_row2\" class=\"row_heading level0 row2\" >upsloping</th>\n",
              "                        <td id=\"T_c4d34368_af2e_11eb_8e66_0242ac1c0002row2_col0\" class=\"data row2 col0\" >74.150000</td>\n",
              "                        <td id=\"T_c4d34368_af2e_11eb_8e66_0242ac1c0002row2_col1\" class=\"data row2 col1\" >17.520000</td>\n",
              "            </tr>\n",
              "    </tbody></table>"
            ],
            "text/plain": [
              "<pandas.io.formats.style.Styler at 0x7f4dd43913d0>"
            ]
          },
          "metadata": {
            "tags": []
          },
          "execution_count": 210
        }
      ]
    },
    {
      "cell_type": "markdown",
      "metadata": {
        "id": "SxdC5HOmgYAz"
      },
      "source": [
        "# istribution of numerical features"
      ]
    },
    {
      "cell_type": "code",
      "metadata": {
        "colab": {
          "base_uri": "https://localhost:8080/",
          "height": 567
        },
        "id": "lGepytQ1gdML",
        "outputId": "91468a78-a9df-48f6-d2c2-94dbc747801d"
      },
      "source": [
        "sns.pairplot(df1, hue = 'target', vars= ['age', 'resting_blood_pressure', 'cholesterol'])"
      ],
      "execution_count": null,
      "outputs": [
        {
          "output_type": "execute_result",
          "data": {
            "text/plain": [
              "<seaborn.axisgrid.PairGrid at 0x7f4dd4415e10>"
            ]
          },
          "metadata": {
            "tags": []
          },
          "execution_count": 211
        },
        {
          "output_type": "display_data",
          "data": {
            "image/png": "[encoded data removed]",
            "text/plain": [
              "<Figure size 582.375x540 with 12 Axes>"
            ]
          },
          "metadata": {
            "tags": [],
            "needs_background": "light"
          }
        }
      ]
    },
    {
      "cell_type": "code",
      "metadata": {
        "colab": {
          "base_uri": "https://localhost:8080/",
          "height": 297
        },
        "id": "uHaultW8hoha",
        "outputId": "555acc9a-a99c-46a3-e90c-23c07840977e"
      },
      "source": [
        "sns.scatterplot(x = 'resting_blood_pressure',y = 'cholesterol', hue = 'target', data = df1)"
      ],
      "execution_count": null,
      "outputs": [
        {
          "output_type": "execute_result",
          "data": {
            "text/plain": [
              "<matplotlib.axes._subplots.AxesSubplot at 0x7f4dd45ef050>"
            ]
          },
          "metadata": {
            "tags": []
          },
          "execution_count": 212
        },
        {
          "output_type": "display_data",
          "data": {
            "image/png": "[encoded data removed]",
            "text/plain": [
              "<Figure size 432x288 with 1 Axes>"
            ]
          },
          "metadata": {
            "tags": [],
            "needs_background": "light"
          }
        }
      ]
    },
    {
      "cell_type": "code",
      "metadata": {
        "colab": {
          "base_uri": "https://localhost:8080/",
          "height": 297
        },
        "id": "MHcrMbPeiJxW",
        "outputId": "1f7085de-dbb0-4b00-b28a-80d7b05647a9"
      },
      "source": [
        "sns.scatterplot(x = 'resting_blood_pressure', y = 'age', hue = 'target', data = df1)"
      ],
      "execution_count": null,
      "outputs": [
        {
          "output_type": "execute_result",
          "data": {
            "text/plain": [
              "<matplotlib.axes._subplots.AxesSubplot at 0x7f4dd4bc2f10>"
            ]
          },
          "metadata": {
            "tags": []
          },
          "execution_count": 213
        },
        {
          "output_type": "display_data",
          "data": {
            "image/png": "[encoded data removed]",
            "text/plain": [
              "<Figure size 432x288 with 1 Axes>"
            ]
          },
          "metadata": {
            "tags": [],
            "needs_background": "light"
          }
        }
      ]
    },
    {
      "cell_type": "markdown",
      "metadata": {
        "id": "b1-VH6QpifhH"
      },
      "source": [
        "# outlier detection removal"
      ]
    },
    {
      "cell_type": "code",
      "metadata": {
        "id": "JCpu5tRhilW5"
      },
      "source": [
        "# filtering numeric features as age,resting bp,cholesterol and max heart rate achieved has outliers as per eda\n",
        "df1_numeric = df1[['age', 'resting_blood_pressure','cholesterol','max_heart_rate']]"
      ],
      "execution_count": null,
      "outputs": []
    },
    {
      "cell_type": "code",
      "metadata": {
        "colab": {
          "base_uri": "https://localhost:8080/",
          "height": 197
        },
        "id": "DxiwATXgkNVQ",
        "outputId": "e02b5abf-ed1f-49b2-d663-9bb9644bc204"
      },
      "source": [
        "df1_numeric.head()"
      ],
      "execution_count": null,
      "outputs": [
        {
          "output_type": "execute_result",
          "data": {
            "text/html": [
              "<div>\n",
              "<style scoped>\n",
              "    .dataframe tbody tr th:only-of-type {\n",
              "        vertical-align: middle;\n",
              "    }\n",
              "\n",
              "    .dataframe tbody tr th {\n",
              "        vertical-align: top;\n",
              "    }\n",
              "\n",
              "    .dataframe thead th {\n",
              "        text-align: right;\n",
              "    }\n",
              "</style>\n",
              "<table border=\"1\" class=\"dataframe\">\n",
              "  <thead>\n",
              "    <tr style=\"text-align: right;\">\n",
              "      <th></th>\n",
              "      <th>age</th>\n",
              "      <th>resting_blood_pressure</th>\n",
              "      <th>cholesterol</th>\n",
              "      <th>max_heart_rate</th>\n",
              "    </tr>\n",
              "  </thead>\n",
              "  <tbody>\n",
              "    <tr>\n",
              "      <th>0</th>\n",
              "      <td>40</td>\n",
              "      <td>140</td>\n",
              "      <td>289</td>\n",
              "      <td>172</td>\n",
              "    </tr>\n",
              "    <tr>\n",
              "      <th>1</th>\n",
              "      <td>49</td>\n",
              "      <td>160</td>\n",
              "      <td>180</td>\n",
              "      <td>156</td>\n",
              "    </tr>\n",
              "    <tr>\n",
              "      <th>2</th>\n",
              "      <td>37</td>\n",
              "      <td>130</td>\n",
              "      <td>283</td>\n",
              "      <td>98</td>\n",
              "    </tr>\n",
              "    <tr>\n",
              "      <th>3</th>\n",
              "      <td>48</td>\n",
              "      <td>138</td>\n",
              "      <td>214</td>\n",
              "      <td>108</td>\n",
              "    </tr>\n",
              "    <tr>\n",
              "      <th>4</th>\n",
              "      <td>54</td>\n",
              "      <td>150</td>\n",
              "      <td>195</td>\n",
              "      <td>122</td>\n",
              "    </tr>\n",
              "  </tbody>\n",
              "</table>\n",
              "</div>"
            ],
            "text/plain": [
              "   age  resting_blood_pressure  cholesterol  max_heart_rate\n",
              "0   40                     140          289             172\n",
              "1   49                     160          180             156\n",
              "2   37                     130          283              98\n",
              "3   48                     138          214             108\n",
              "4   54                     150          195             122"
            ]
          },
          "metadata": {
            "tags": []
          },
          "execution_count": 215
        }
      ]
    },
    {
      "cell_type": "code",
      "metadata": {
        "colab": {
          "base_uri": "https://localhost:8080/"
        },
        "id": "OuUxli2WkUm4",
        "outputId": "bae27c57-00bc-45de-c907-0ffa4e79c29b"
      },
      "source": [
        "# calculating zscore of numeric columns in the dataset\n",
        "z = np.abs(stats.zscore(df1_numeric))\n",
        "print(z)"
      ],
      "execution_count": null,
      "outputs": [
        {
          "output_type": "stream",
          "text": [
            "[[1.46626567 0.4281359  0.7752277  1.26430092]\n",
            " [0.5035987  1.51737007 0.29951621 0.63725935]\n",
            " [1.78715466 0.11648118 0.71606748 1.63576637]\n",
            " ...\n",
            " [0.35210527 0.11648118 0.78265797 0.96953469]\n",
            " [0.35210527 0.11648118 0.2526458  1.34268112]\n",
            " [1.68019167 0.31921249 0.34881639 1.30349102]]\n"
          ],
          "name": "stdout"
        }
      ]
    },
    {
      "cell_type": "code",
      "metadata": {
        "colab": {
          "base_uri": "https://localhost:8080/"
        },
        "id": "xBe5vsAwkzml",
        "outputId": "5f6bb2be-60da-4b68-e2ec-fddb3cee41c9"
      },
      "source": [
        "# defining threshold for filtering outliers\n",
        "threshold = 3\n",
        "print(np.where(z > 3))"
      ],
      "execution_count": null,
      "outputs": [
        {
          "output_type": "stream",
          "text": [
            "(array([  30,   76,  109,  149,  242,  366,  371,  391,  400,  450,  592,\n",
            "        617,  733,  760, 1012, 1038, 1074]), array([2, 2, 1, 2, 1, 1, 3, 3, 1, 1, 1, 2, 1, 1, 1, 2, 1]))\n"
          ],
          "name": "stdout"
        }
      ]
    },
    {
      "cell_type": "code",
      "metadata": {
        "id": "AbAr_RsRlK_C"
      },
      "source": [
        "# filtering outliers retaining only those data points which are below threshold\n",
        "df1 = df1[(z < 3).all(axis=1)]"
      ],
      "execution_count": null,
      "outputs": []
    },
    {
      "cell_type": "code",
      "metadata": {
        "colab": {
          "base_uri": "https://localhost:8080/"
        },
        "id": "8aL9ulxLlfvt",
        "outputId": "aa343166-91b2-46da-9518-2094e2de7e4b"
      },
      "source": [
        "# checking shape of dataset after outlier removed\n",
        "df1.shape"
      ],
      "execution_count": null,
      "outputs": [
        {
          "output_type": "execute_result",
          "data": {
            "text/plain": [
              "(1172, 12)"
            ]
          },
          "metadata": {
            "tags": []
          },
          "execution_count": 219
        }
      ]
    },
    {
      "cell_type": "code",
      "metadata": {
        "colab": {
          "base_uri": "https://localhost:8080/",
          "height": 251
        },
        "id": "2Z75_gO5lvM8",
        "outputId": "543ce7ea-f4fd-4354-91b3-803aff82e74c"
      },
      "source": [
        "# encoding categorical variables\n",
        "df1 = pd.get_dummies(df1, drop_first=True)\n",
        "\n",
        "df1.head()"
      ],
      "execution_count": null,
      "outputs": [
        {
          "output_type": "execute_result",
          "data": {
            "text/html": [
              "<div>\n",
              "<style scoped>\n",
              "    .dataframe tbody tr th:only-of-type {\n",
              "        vertical-align: middle;\n",
              "    }\n",
              "\n",
              "    .dataframe tbody tr th {\n",
              "        vertical-align: top;\n",
              "    }\n",
              "\n",
              "    .dataframe thead th {\n",
              "        text-align: right;\n",
              "    }\n",
              "</style>\n",
              "<table border=\"1\" class=\"dataframe\">\n",
              "  <thead>\n",
              "    <tr style=\"text-align: right;\">\n",
              "      <th></th>\n",
              "      <th>age</th>\n",
              "      <th>resting_blood_pressure</th>\n",
              "      <th>cholesterol</th>\n",
              "      <th>fasting_blood_sugar</th>\n",
              "      <th>max_heart_rate</th>\n",
              "      <th>exercise_induced_angina</th>\n",
              "      <th>st_depression</th>\n",
              "      <th>target</th>\n",
              "      <th>sex_male</th>\n",
              "      <th>chest_pain_type_atypical angina</th>\n",
              "      <th>chest_pain_type_non-anginal pain</th>\n",
              "      <th>chest_pain_type_typical angina</th>\n",
              "      <th>rest_ecg_left ventricular hypertropy</th>\n",
              "      <th>rest_ecg_normal</th>\n",
              "      <th>st_slope_flat</th>\n",
              "      <th>st_slope_upsloping</th>\n",
              "    </tr>\n",
              "  </thead>\n",
              "  <tbody>\n",
              "    <tr>\n",
              "      <th>0</th>\n",
              "      <td>40</td>\n",
              "      <td>140</td>\n",
              "      <td>289</td>\n",
              "      <td>0</td>\n",
              "      <td>172</td>\n",
              "      <td>0</td>\n",
              "      <td>0.0</td>\n",
              "      <td>0</td>\n",
              "      <td>1</td>\n",
              "      <td>1</td>\n",
              "      <td>0</td>\n",
              "      <td>0</td>\n",
              "      <td>0</td>\n",
              "      <td>1</td>\n",
              "      <td>0</td>\n",
              "      <td>1</td>\n",
              "    </tr>\n",
              "    <tr>\n",
              "      <th>1</th>\n",
              "      <td>49</td>\n",
              "      <td>160</td>\n",
              "      <td>180</td>\n",
              "      <td>0</td>\n",
              "      <td>156</td>\n",
              "      <td>0</td>\n",
              "      <td>1.0</td>\n",
              "      <td>1</td>\n",
              "      <td>0</td>\n",
              "      <td>0</td>\n",
              "      <td>1</td>\n",
              "      <td>0</td>\n",
              "      <td>0</td>\n",
              "      <td>1</td>\n",
              "      <td>1</td>\n",
              "      <td>0</td>\n",
              "    </tr>\n",
              "    <tr>\n",
              "      <th>2</th>\n",
              "      <td>37</td>\n",
              "      <td>130</td>\n",
              "      <td>283</td>\n",
              "      <td>0</td>\n",
              "      <td>98</td>\n",
              "      <td>0</td>\n",
              "      <td>0.0</td>\n",
              "      <td>0</td>\n",
              "      <td>1</td>\n",
              "      <td>1</td>\n",
              "      <td>0</td>\n",
              "      <td>0</td>\n",
              "      <td>0</td>\n",
              "      <td>0</td>\n",
              "      <td>0</td>\n",
              "      <td>1</td>\n",
              "    </tr>\n",
              "    <tr>\n",
              "      <th>3</th>\n",
              "      <td>48</td>\n",
              "      <td>138</td>\n",
              "      <td>214</td>\n",
              "      <td>0</td>\n",
              "      <td>108</td>\n",
              "      <td>1</td>\n",
              "      <td>1.5</td>\n",
              "      <td>1</td>\n",
              "      <td>0</td>\n",
              "      <td>0</td>\n",
              "      <td>0</td>\n",
              "      <td>0</td>\n",
              "      <td>0</td>\n",
              "      <td>1</td>\n",
              "      <td>1</td>\n",
              "      <td>0</td>\n",
              "    </tr>\n",
              "    <tr>\n",
              "      <th>4</th>\n",
              "      <td>54</td>\n",
              "      <td>150</td>\n",
              "      <td>195</td>\n",
              "      <td>0</td>\n",
              "      <td>122</td>\n",
              "      <td>0</td>\n",
              "      <td>0.0</td>\n",
              "      <td>0</td>\n",
              "      <td>1</td>\n",
              "      <td>0</td>\n",
              "      <td>1</td>\n",
              "      <td>0</td>\n",
              "      <td>0</td>\n",
              "      <td>1</td>\n",
              "      <td>0</td>\n",
              "      <td>1</td>\n",
              "    </tr>\n",
              "  </tbody>\n",
              "</table>\n",
              "</div>"
            ],
            "text/plain": [
              "   age  resting_blood_pressure  ...  st_slope_flat  st_slope_upsloping\n",
              "0   40                     140  ...              0                   1\n",
              "1   49                     160  ...              1                   0\n",
              "2   37                     130  ...              0                   1\n",
              "3   48                     138  ...              1                   0\n",
              "4   54                     150  ...              0                   1\n",
              "\n",
              "[5 rows x 16 columns]"
            ]
          },
          "metadata": {
            "tags": []
          },
          "execution_count": 220
        }
      ]
    },
    {
      "cell_type": "code",
      "metadata": {
        "colab": {
          "base_uri": "https://localhost:8080/"
        },
        "id": "8NgrAx2XmGp3",
        "outputId": "543de63a-c3bf-46e7-db93-92ca5138f541"
      },
      "source": [
        "# checking the shape of dataset\n",
        "df1.shape"
      ],
      "execution_count": null,
      "outputs": [
        {
          "output_type": "execute_result",
          "data": {
            "text/plain": [
              "(1172, 16)"
            ]
          },
          "metadata": {
            "tags": []
          },
          "execution_count": 221
        }
      ]
    },
    {
      "cell_type": "code",
      "metadata": {
        "id": "V_lvOwIQmR2E"
      },
      "source": [
        "# segregating dataset into features i.e.,X and target variables i.e.,y\n",
        "X = df1.drop(['target'],axis=1)\n",
        "y = df1['target']"
      ],
      "execution_count": null,
      "outputs": []
    },
    {
      "cell_type": "markdown",
      "metadata": {
        "id": "HhnJQPL2mxad"
      },
      "source": [
        "# checking correlation"
      ]
    },
    {
      "cell_type": "code",
      "metadata": {
        "colab": {
          "base_uri": "https://localhost:8080/",
          "height": 558
        },
        "id": "1Z4kDGV7mwD4",
        "outputId": "6f6589e7-2791-4d25-d40c-04b18e0af403"
      },
      "source": [
        "# correlation with response variable class\n",
        "\n",
        "X.corrwith(y).plot.bar(figsize = (16,4), title = \"correlation with diabetes\", fontsize = 15,rot = 90, grid = True)"
      ],
      "execution_count": null,
      "outputs": [
        {
          "output_type": "execute_result",
          "data": {
            "text/plain": [
              "<matplotlib.axes._subplots.AxesSubplot at 0x7f4dd4b9a410>"
            ]
          },
          "metadata": {
            "tags": []
          },
          "execution_count": 223
        },
        {
          "output_type": "display_data",
          "data": {
            "image/png": "[encoded data removed]",
            "text/plain": [
              "<Figure size 1152x288 with 1 Axes>"
            ]
          },
          "metadata": {
            "tags": [],
            "needs_background": "light"
          }
        }
      ]
    },
    {
      "cell_type": "markdown",
      "metadata": {
        "id": "WLEpddYdnxt-"
      },
      "source": [
        "# train test split"
      ]
    },
    {
      "cell_type": "code",
      "metadata": {
        "id": "cqMGQ0u2pNMH"
      },
      "source": [
        "from sklearn.model_selection import train_test_split"
      ],
      "execution_count": null,
      "outputs": []
    },
    {
      "cell_type": "code",
      "metadata": {
        "id": "9V55gmGTpvzS"
      },
      "source": [
        "X_train, X_test, y_train, y_test = train_test_split(X, y, stratify=y, test_size=0.2,shuffle=True, random_state=5)"
      ],
      "execution_count": null,
      "outputs": []
    },
    {
      "cell_type": "code",
      "metadata": {
        "colab": {
          "base_uri": "https://localhost:8080/"
        },
        "id": "fkCFOH2zpyjI",
        "outputId": "c5ea50ef-7025-42d1-a110-c350aa5c0f44"
      },
      "source": [
        "## checking distribution of target variable in train test split\n",
        "print('distribution of target variable in training set')\n",
        "print(y_test.value_counts())\n",
        "\n",
        "print('istribution of target variable in test set')\n",
        "print(y_test.value_counts())"
      ],
      "execution_count": null,
      "outputs": [
        {
          "output_type": "stream",
          "text": [
            "distribution of target variable in training set\n",
            "1    123\n",
            "0    112\n",
            "Name: target, dtype: int64\n",
            "istribution of target variable in test set\n",
            "1    123\n",
            "0    112\n",
            "Name: target, dtype: int64\n"
          ],
          "name": "stdout"
        }
      ]
    },
    {
      "cell_type": "code",
      "metadata": {
        "colab": {
          "base_uri": "https://localhost:8080/"
        },
        "id": "CfQaCXRaqceP",
        "outputId": "ce1084ae-8f20-4b02-9a36-a9f764dbed6f"
      },
      "source": [
        "print('----------training set-----------')\n",
        "print(X_train.shape)\n",
        "print(y_train.shape)\n",
        "\n",
        "print('----------test set-------------')\n",
        "print(X_test.shape)\n",
        "print(y_test.shape)"
      ],
      "execution_count": null,
      "outputs": [
        {
          "output_type": "stream",
          "text": [
            "----------training set-----------\n",
            "(937, 15)\n",
            "(937,)\n",
            "----------test set-------------\n",
            "(235, 15)\n",
            "(235,)\n"
          ],
          "name": "stdout"
        }
      ]
    },
    {
      "cell_type": "markdown",
      "metadata": {
        "id": "NN9-It3irbw4"
      },
      "source": [
        "# feature normalization"
      ]
    },
    {
      "cell_type": "code",
      "metadata": {
        "colab": {
          "base_uri": "https://localhost:8080/",
          "height": 251
        },
        "id": "phyJ7uMOrjvs",
        "outputId": "9438db59-0983-4ef0-9ecf-6b67cb79ae0b"
      },
      "source": [
        "from sklearn.preprocessing import MinMaxScaler\n",
        "scaler = MinMaxScaler()\n",
        "X_train[['age','resting_blood_pressure','cholesterol','max_heart_rate','st_depression']] = scaler.fit_transform(X_train[['age','resting_blood_pressure','cholesterol','max_heart_rate','st_depression']])\n",
        "X_train.head()\n"
      ],
      "execution_count": null,
      "outputs": [
        {
          "output_type": "execute_result",
          "data": {
            "text/html": [
              "<div>\n",
              "<style scoped>\n",
              "    .dataframe tbody tr th:only-of-type {\n",
              "        vertical-align: middle;\n",
              "    }\n",
              "\n",
              "    .dataframe tbody tr th {\n",
              "        vertical-align: top;\n",
              "    }\n",
              "\n",
              "    .dataframe thead th {\n",
              "        text-align: right;\n",
              "    }\n",
              "</style>\n",
              "<table border=\"1\" class=\"dataframe\">\n",
              "  <thead>\n",
              "    <tr style=\"text-align: right;\">\n",
              "      <th></th>\n",
              "      <th>age</th>\n",
              "      <th>resting_blood_pressure</th>\n",
              "      <th>cholesterol</th>\n",
              "      <th>fasting_blood_sugar</th>\n",
              "      <th>max_heart_rate</th>\n",
              "      <th>exercise_induced_angina</th>\n",
              "      <th>st_depression</th>\n",
              "      <th>sex_male</th>\n",
              "      <th>chest_pain_type_atypical angina</th>\n",
              "      <th>chest_pain_type_non-anginal pain</th>\n",
              "      <th>chest_pain_type_typical angina</th>\n",
              "      <th>rest_ecg_left ventricular hypertropy</th>\n",
              "      <th>rest_ecg_normal</th>\n",
              "      <th>st_slope_flat</th>\n",
              "      <th>st_slope_upsloping</th>\n",
              "    </tr>\n",
              "  </thead>\n",
              "  <tbody>\n",
              "    <tr>\n",
              "      <th>478</th>\n",
              "      <td>0.673469</td>\n",
              "      <td>0.193548</td>\n",
              "      <td>0.000000</td>\n",
              "      <td>1</td>\n",
              "      <td>0.303704</td>\n",
              "      <td>1</td>\n",
              "      <td>0.454545</td>\n",
              "      <td>1</td>\n",
              "      <td>0</td>\n",
              "      <td>0</td>\n",
              "      <td>0</td>\n",
              "      <td>0</td>\n",
              "      <td>1</td>\n",
              "      <td>0</td>\n",
              "      <td>0</td>\n",
              "    </tr>\n",
              "    <tr>\n",
              "      <th>253</th>\n",
              "      <td>0.673469</td>\n",
              "      <td>0.354839</td>\n",
              "      <td>0.594705</td>\n",
              "      <td>0</td>\n",
              "      <td>0.355556</td>\n",
              "      <td>1</td>\n",
              "      <td>0.194805</td>\n",
              "      <td>1</td>\n",
              "      <td>0</td>\n",
              "      <td>0</td>\n",
              "      <td>0</td>\n",
              "      <td>0</td>\n",
              "      <td>0</td>\n",
              "      <td>0</td>\n",
              "      <td>1</td>\n",
              "    </tr>\n",
              "    <tr>\n",
              "      <th>273</th>\n",
              "      <td>0.551020</td>\n",
              "      <td>0.516129</td>\n",
              "      <td>0.409369</td>\n",
              "      <td>0</td>\n",
              "      <td>0.466667</td>\n",
              "      <td>1</td>\n",
              "      <td>0.584416</td>\n",
              "      <td>1</td>\n",
              "      <td>0</td>\n",
              "      <td>0</td>\n",
              "      <td>0</td>\n",
              "      <td>0</td>\n",
              "      <td>1</td>\n",
              "      <td>1</td>\n",
              "      <td>0</td>\n",
              "    </tr>\n",
              "    <tr>\n",
              "      <th>111</th>\n",
              "      <td>0.591837</td>\n",
              "      <td>0.623656</td>\n",
              "      <td>0.519348</td>\n",
              "      <td>0</td>\n",
              "      <td>0.185185</td>\n",
              "      <td>1</td>\n",
              "      <td>0.584416</td>\n",
              "      <td>1</td>\n",
              "      <td>0</td>\n",
              "      <td>0</td>\n",
              "      <td>0</td>\n",
              "      <td>0</td>\n",
              "      <td>1</td>\n",
              "      <td>1</td>\n",
              "      <td>0</td>\n",
              "    </tr>\n",
              "    <tr>\n",
              "      <th>50</th>\n",
              "      <td>0.448980</td>\n",
              "      <td>0.408602</td>\n",
              "      <td>0.474542</td>\n",
              "      <td>0</td>\n",
              "      <td>0.400000</td>\n",
              "      <td>1</td>\n",
              "      <td>0.454545</td>\n",
              "      <td>1</td>\n",
              "      <td>0</td>\n",
              "      <td>0</td>\n",
              "      <td>0</td>\n",
              "      <td>0</td>\n",
              "      <td>1</td>\n",
              "      <td>1</td>\n",
              "      <td>0</td>\n",
              "    </tr>\n",
              "  </tbody>\n",
              "</table>\n",
              "</div>"
            ],
            "text/plain": [
              "          age  resting_blood_pressure  ...  st_slope_flat  st_slope_upsloping\n",
              "478  0.673469                0.193548  ...              0                   0\n",
              "253  0.673469                0.354839  ...              0                   1\n",
              "273  0.551020                0.516129  ...              1                   0\n",
              "111  0.591837                0.623656  ...              1                   0\n",
              "50   0.448980                0.408602  ...              1                   0\n",
              "\n",
              "[5 rows x 15 columns]"
            ]
          },
          "metadata": {
            "tags": []
          },
          "execution_count": 228
        }
      ]
    },
    {
      "cell_type": "code",
      "metadata": {
        "colab": {
          "base_uri": "https://localhost:8080/",
          "height": 251
        },
        "id": "kTZJ1ZxaBisI",
        "outputId": "db19e607-0a81-4cfa-ac91-963d22863ab5"
      },
      "source": [
        "X_test[['age','resting_blood_pressure','cholesterol','max_heart_rate','st_depression']] = scaler.transform(X_test[['age','resting_blood_pressure','cholesterol','max_heart_rate','st_depression']])\n",
        "X_test.head()"
      ],
      "execution_count": null,
      "outputs": [
        {
          "output_type": "execute_result",
          "data": {
            "text/html": [
              "<div>\n",
              "<style scoped>\n",
              "    .dataframe tbody tr th:only-of-type {\n",
              "        vertical-align: middle;\n",
              "    }\n",
              "\n",
              "    .dataframe tbody tr th {\n",
              "        vertical-align: top;\n",
              "    }\n",
              "\n",
              "    .dataframe thead th {\n",
              "        text-align: right;\n",
              "    }\n",
              "</style>\n",
              "<table border=\"1\" class=\"dataframe\">\n",
              "  <thead>\n",
              "    <tr style=\"text-align: right;\">\n",
              "      <th></th>\n",
              "      <th>age</th>\n",
              "      <th>resting_blood_pressure</th>\n",
              "      <th>cholesterol</th>\n",
              "      <th>fasting_blood_sugar</th>\n",
              "      <th>max_heart_rate</th>\n",
              "      <th>exercise_induced_angina</th>\n",
              "      <th>st_depression</th>\n",
              "      <th>sex_male</th>\n",
              "      <th>chest_pain_type_atypical angina</th>\n",
              "      <th>chest_pain_type_non-anginal pain</th>\n",
              "      <th>chest_pain_type_typical angina</th>\n",
              "      <th>rest_ecg_left ventricular hypertropy</th>\n",
              "      <th>rest_ecg_normal</th>\n",
              "      <th>st_slope_flat</th>\n",
              "      <th>st_slope_upsloping</th>\n",
              "    </tr>\n",
              "  </thead>\n",
              "  <tbody>\n",
              "    <tr>\n",
              "      <th>1024</th>\n",
              "      <td>0.693878</td>\n",
              "      <td>0.301075</td>\n",
              "      <td>0.572301</td>\n",
              "      <td>0</td>\n",
              "      <td>0.266667</td>\n",
              "      <td>0</td>\n",
              "      <td>0.376623</td>\n",
              "      <td>1</td>\n",
              "      <td>1</td>\n",
              "      <td>0</td>\n",
              "      <td>0</td>\n",
              "      <td>1</td>\n",
              "      <td>0</td>\n",
              "      <td>1</td>\n",
              "      <td>0</td>\n",
              "    </tr>\n",
              "    <tr>\n",
              "      <th>182</th>\n",
              "      <td>0.469388</td>\n",
              "      <td>0.408602</td>\n",
              "      <td>0.456212</td>\n",
              "      <td>0</td>\n",
              "      <td>0.614815</td>\n",
              "      <td>0</td>\n",
              "      <td>0.194805</td>\n",
              "      <td>1</td>\n",
              "      <td>1</td>\n",
              "      <td>0</td>\n",
              "      <td>0</td>\n",
              "      <td>0</td>\n",
              "      <td>1</td>\n",
              "      <td>0</td>\n",
              "      <td>1</td>\n",
              "    </tr>\n",
              "    <tr>\n",
              "      <th>785</th>\n",
              "      <td>0.346939</td>\n",
              "      <td>0.494624</td>\n",
              "      <td>0.480652</td>\n",
              "      <td>0</td>\n",
              "      <td>0.629630</td>\n",
              "      <td>1</td>\n",
              "      <td>0.220779</td>\n",
              "      <td>0</td>\n",
              "      <td>0</td>\n",
              "      <td>0</td>\n",
              "      <td>0</td>\n",
              "      <td>1</td>\n",
              "      <td>0</td>\n",
              "      <td>1</td>\n",
              "      <td>0</td>\n",
              "    </tr>\n",
              "    <tr>\n",
              "      <th>924</th>\n",
              "      <td>0.591837</td>\n",
              "      <td>0.623656</td>\n",
              "      <td>0.562118</td>\n",
              "      <td>0</td>\n",
              "      <td>0.333333</td>\n",
              "      <td>1</td>\n",
              "      <td>0.272727</td>\n",
              "      <td>1</td>\n",
              "      <td>0</td>\n",
              "      <td>0</td>\n",
              "      <td>0</td>\n",
              "      <td>1</td>\n",
              "      <td>0</td>\n",
              "      <td>1</td>\n",
              "      <td>0</td>\n",
              "    </tr>\n",
              "    <tr>\n",
              "      <th>780</th>\n",
              "      <td>0.612245</td>\n",
              "      <td>0.387097</td>\n",
              "      <td>0.527495</td>\n",
              "      <td>0</td>\n",
              "      <td>0.466667</td>\n",
              "      <td>1</td>\n",
              "      <td>0.584416</td>\n",
              "      <td>1</td>\n",
              "      <td>0</td>\n",
              "      <td>0</td>\n",
              "      <td>0</td>\n",
              "      <td>1</td>\n",
              "      <td>0</td>\n",
              "      <td>1</td>\n",
              "      <td>0</td>\n",
              "    </tr>\n",
              "  </tbody>\n",
              "</table>\n",
              "</div>"
            ],
            "text/plain": [
              "           age  resting_blood_pressure  ...  st_slope_flat  st_slope_upsloping\n",
              "1024  0.693878                0.301075  ...              1                   0\n",
              "182   0.469388                0.408602  ...              0                   1\n",
              "785   0.346939                0.494624  ...              1                   0\n",
              "924   0.591837                0.623656  ...              1                   0\n",
              "780   0.612245                0.387097  ...              1                   0\n",
              "\n",
              "[5 rows x 15 columns]"
            ]
          },
          "metadata": {
            "tags": []
          },
          "execution_count": 229
        }
      ]
    },
    {
      "cell_type": "markdown",
      "metadata": {
        "id": "6xa9M4yzCAa7"
      },
      "source": [
        "# cross validation"
      ]
    },
    {
      "cell_type": "code",
      "metadata": {
        "id": "DimYMl5QB6fT"
      },
      "source": [
        "from sklearn import model_selection\n",
        "from sklearn.model_selection import cross_val_score\n",
        "import xgboost as xgb\n",
        "# function initializing baseline machine learning models\n",
        "def GetBasedModel():\n",
        "    basedModels = []\n",
        "    basedModels.append(('LR_L2'   , LogisticRegression(penalty='l2')))\n",
        "    basedModels.append(('LDA'  , LinearDiscriminantAnalysis()))\n",
        "    basedModels.append(('KNN7'  , KNeighborsClassifier(7)))\n",
        "    basedModels.append(('KNN5'  , KNeighborsClassifier(5)))\n",
        "    basedModels.append(('KNN9'  , KNeighborsClassifier(9)))\n",
        "    basedModels.append(('KNN11'  , KNeighborsClassifier(11)))\n",
        "    basedModels.append(('CART' , DecisionTreeClassifier()))\n",
        "    basedModels.append(('NB'   , GaussianNB()))\n",
        "    basedModels.append(('SVM Linear'  , SVC(kernel='linear',gamma='auto',probability=True)))\n",
        "    basedModels.append(('SVM RBF'  , SVC(kernel='rbf',gamma='auto',probability=True)))\n",
        "    basedModels.append(('AB'   , AdaBoostClassifier()))\n",
        "    basedModels.append(('GBM'  , GradientBoostingClassifier(n_estimators=100,max_features='sqrt')))\n",
        "    basedModels.append(('RF_Ent100'   , RandomForestClassifier(criterion='entropy',n_estimators=100)))\n",
        "    basedModels.append(('RF_Gini100'   , RandomForestClassifier(criterion='gini',n_estimators=100)))\n",
        "    basedModels.append(('ET100'   , ExtraTreesClassifier(n_estimators= 100)))\n",
        "    basedModels.append(('ET500'   , ExtraTreesClassifier(n_estimators= 500)))\n",
        "    basedModels.append(('MLP', MLPClassifier()))\n",
        "    basedModels.append(('SGD3000', SGDClassifier(max_iter=1000, tol=1e-4)))\n",
        "    basedModels.append(('XGB_2000', xgb.XGBClassifier(n_estimators= 2000)))\n",
        "    basedModels.append(('XGB_500', xgb.XGBClassifier(n_estimators= 500)))\n",
        "    basedModels.append(('XGB_100', xgb.XGBClassifier(n_estimators= 100)))\n",
        "    basedModels.append(('XGB_1000', xgb.XGBClassifier(n_estimators= 1000)))\n",
        "    basedModels.append(('ET1000'   , ExtraTreesClassifier(n_estimators= 1000)))\n",
        "    return basedModels\n",
        "\n",
        "# function for performing 10-fold cross validation of all the baseline models\n",
        "def BasedLine2(X_train, y_train,models):\n",
        "    # Test options and evaluation metric\n",
        "    num_folds = 10\n",
        "    scoring = 'accuracy'\n",
        "    seed = 7\n",
        "    results = []\n",
        "    names = []\n",
        "    for name, model in models:\n",
        "        kfold = model_selection.KFold(n_splits=10, random_state=seed)\n",
        "        cv_results = model_selection.cross_val_score(model, X_train, y_train, cv=kfold, scoring=scoring)\n",
        "        results.append(cv_results)\n",
        "        names.append(name)\n",
        "        msg = \"%s: %f (%f)\" % (name, cv_results.mean(), cv_results.std())\n",
        "        print(msg)\n",
        "\n",
        "\n",
        "    return results,msg\n"
      ],
      "execution_count": null,
      "outputs": []
    },
    {
      "cell_type": "code",
      "metadata": {
        "id": "W8CfKGK_7B51"
      },
      "source": [
        " from sklearn.discriminant_analysis import LinearDiscriminantAnalysis\n",
        " from sklearn.neighbors import KNeighborsClassifier\n",
        " from sklearn.naive_bayes import GaussianNB\n",
        " from sklearn.ensemble import ExtraTreesClassifier"
      ],
      "execution_count": null,
      "outputs": []
    },
    {
      "cell_type": "code",
      "metadata": {
        "colab": {
          "base_uri": "https://localhost:8080/"
        },
        "id": "O2gvXw5wct9_",
        "outputId": "10aed522-6c45-40c7-9671-bc43e0ee9136"
      },
      "source": [
        "models = GetBasedModel()\n",
        "names,results = BasedLine2(X_train, y_train,models)"
      ],
      "execution_count": null,
      "outputs": [
        {
          "output_type": "stream",
          "text": [
            "LR_L2: 0.851704 (0.051909)\n",
            "LDA: 0.854907 (0.049415)\n",
            "KNN7: 0.851659 (0.047773)\n",
            "KNN5: 0.843079 (0.043544)\n",
            "KNN9: 0.857001 (0.040182)\n",
            "KNN11: 0.852745 (0.039732)\n",
            "CART: 0.869835 (0.026236)\n",
            "NB: 0.845310 (0.048020)\n",
            "SVM Linear: 0.852803 (0.052849)\n",
            "SVM RBF: 0.852745 (0.044010)\n",
            "AB: 0.853832 (0.028773)\n",
            "GBM: 0.886891 (0.031619)\n",
            "RF_Ent100: 0.930702 (0.033627)\n",
            "RF_Gini100: 0.933871 (0.034841)\n",
            "ET100: 0.923187 (0.030344)\n",
            "ET500: 0.923187 (0.033194)\n",
            "MLP: 0.868783 (0.039103)\n",
            "SGD3000: 0.827168 (0.041839)\n",
            "XGB_2000: 0.921082 (0.040058)\n",
            "XGB_500: 0.926378 (0.033758)\n",
            "XGB_100: 0.899703 (0.037175)\n",
            "XGB_1000: 0.924274 (0.040144)\n",
            "ET1000: 0.921048 (0.032317)\n"
          ],
          "name": "stdout"
        }
      ]
    },
    {
      "cell_type": "markdown",
      "metadata": {
        "id": "zkI6GokBJ1KB"
      },
      "source": [
        "# Model building"
      ]
    },
    {
      "cell_type": "markdown",
      "metadata": {
        "id": "gSEdRdvELXdk"
      },
      "source": [
        "random forest classifier(criterion='entropy')"
      ]
    },
    {
      "cell_type": "code",
      "metadata": {
        "id": "iatDqSevJZvu"
      },
      "source": [
        "rf_ent = RandomForestClassifier(criterion='entropy',n_estimators=100)\n",
        "rf_ent.fit(X_train, y_train)\n",
        "y_pred_rfe = rf_ent.predict(X_test)"
      ],
      "execution_count": null,
      "outputs": []
    },
    {
      "cell_type": "markdown",
      "metadata": {
        "id": "eXLuLfJULNiC"
      },
      "source": [
        "multi layer perceptron"
      ]
    },
    {
      "cell_type": "code",
      "metadata": {
        "id": "uVzhvfGcLT2v"
      },
      "source": [
        "mlp = MLPClassifier()\n",
        "mlp.fit(X_train,y_train)\n",
        "y_pred_mlp = mlp.predict(X_test)"
      ],
      "execution_count": null,
      "outputs": []
    },
    {
      "cell_type": "markdown",
      "metadata": {
        "id": "H_YrvBIKL9_v"
      },
      "source": [
        "k nearest neighbour (n=9)"
      ]
    },
    {
      "cell_type": "code",
      "metadata": {
        "id": "TCh0EjsMMFJT"
      },
      "source": [
        "knn = KNeighborsClassifier(9)\n",
        "knn.fit(X_train,y_train)\n",
        "y_pred_knn = knn.predict(X_test)"
      ],
      "execution_count": null,
      "outputs": []
    },
    {
      "cell_type": "markdown",
      "metadata": {
        "id": "AD2aihCyMkdE"
      },
      "source": [
        "extra tree classifier (n_estimation=500)"
      ]
    },
    {
      "cell_type": "code",
      "metadata": {
        "id": "LSDqlP4INOOa"
      },
      "source": [
        "from sklearn.ensemble import ExtraTreesClassifier"
      ],
      "execution_count": null,
      "outputs": []
    },
    {
      "cell_type": "code",
      "metadata": {
        "id": "mv06xAiUMtJI"
      },
      "source": [
        "et_100 = ExtraTreesClassifier(n_estimators=100)\n",
        "et_100.fit(X_train,y_train)\n",
        "y_pred_et100 = et_100.predict(X_test)"
      ],
      "execution_count": null,
      "outputs": []
    },
    {
      "cell_type": "markdown",
      "metadata": {
        "id": "eMP4O7_qNoAW"
      },
      "source": [
        "XGboost(n_estimators=500)"
      ]
    },
    {
      "cell_type": "code",
      "metadata": {
        "id": "cYFTDCDLNnkb"
      },
      "source": [
        "xgb = xgb.XGBClassifier(n_estimators=500)\n",
        "xgb.fit(X_train,y_train)\n",
        "y_pred_xgb = xgb.predict(X_test)"
      ],
      "execution_count": null,
      "outputs": []
    },
    {
      "cell_type": "markdown",
      "metadata": {
        "id": "1hg-FYo7OXHx"
      },
      "source": [
        "support vector classifier(kernel='linear')\n"
      ]
    },
    {
      "cell_type": "code",
      "metadata": {
        "id": "S2UukIGcOfuU"
      },
      "source": [
        "svc = SVC(kernel='linear',gamma='auto',probability=True)\n",
        "svc.fit(X_train,y_train)\n",
        "y_pred_xgb = xgb.predict(X_test)"
      ],
      "execution_count": null,
      "outputs": []
    },
    {
      "cell_type": "markdown",
      "metadata": {
        "id": "JSAkBUr-PDuj"
      },
      "source": [
        "stochastic gradient descent"
      ]
    },
    {
      "cell_type": "code",
      "metadata": {
        "id": "GhLFJw2SPALL"
      },
      "source": [
        "sgd = SGDClassifier(max_iter=1000, tol=1e-4)\n",
        "sgd.fit(X_train,y_train)\n",
        "y_pred_sgd = sgd.predict(X_test)"
      ],
      "execution_count": null,
      "outputs": []
    },
    {
      "cell_type": "markdown",
      "metadata": {
        "id": "UIMWfNIQPsHL"
      },
      "source": [
        "adaboost classifier"
      ]
    },
    {
      "cell_type": "code",
      "metadata": {
        "id": "5fytV-2dPxu1"
      },
      "source": [
        "ada = AdaBoostClassifier()\n",
        "ada.fit(X_train,y_train)\n",
        "y_pred_ada = ada.predict(X_test)"
      ],
      "execution_count": null,
      "outputs": []
    },
    {
      "cell_type": "markdown",
      "metadata": {
        "id": "oq4c51EtQGd0"
      },
      "source": [
        "decision tree classifier(CART)"
      ]
    },
    {
      "cell_type": "code",
      "metadata": {
        "id": "M2Mcsc03QNXd"
      },
      "source": [
        "decc = DecisionTreeClassifier()\n",
        "decc.fit(X_train,y_train)\n",
        "y_pred_decc = decc.predict(X_test)"
      ],
      "execution_count": null,
      "outputs": []
    },
    {
      "cell_type": "markdown",
      "metadata": {
        "id": "13YUYcYAQor0"
      },
      "source": [
        "gradient boosting machine"
      ]
    },
    {
      "cell_type": "code",
      "metadata": {
        "id": "hCa9phekQves"
      },
      "source": [
        "gbm = GradientBoostingClassifier(n_estimators=100,max_features='sqrt')\n",
        "gbm.fit(X_train,y_train)\n",
        "y_pred_gbm = gbm.predict(X_test)"
      ],
      "execution_count": null,
      "outputs": []
    },
    {
      "cell_type": "markdown",
      "metadata": {
        "id": "kjdxPlAfSPXR"
      },
      "source": [
        "F1 score"
      ]
    },
    {
      "cell_type": "code",
      "metadata": {
        "id": "VioB_jADSR2O",
        "colab": {
          "base_uri": "https://localhost:8080/",
          "height": 325
        },
        "outputId": "61121cef-6225-47ca-ef46-6636374777a4"
      },
      "source": [
        "CM = confusion_matrix(y_test,y_pred_rfe)\n",
        "sns.heatmap(CM,annot=True)\n",
        "\n",
        "TN = CM[0][0]\n",
        "FN = CM[1][0]\n",
        "TP = CM[1][1]\n",
        "FP = CM[0][1]\n",
        "specificity = TN/(TN+FP)\n",
        "loss_log = log_loss(y_test, y_pred_rfe)\n",
        "acc = accuracy_score(y_test, y_pred_rfe)\n",
        "roc = roc_auc_score(y_test, y_pred_rfe)\n",
        "prec = precision_score(y_test, y_pred_rfe)\n",
        "rec = recall_score(y_test, y_pred_rfe)\n",
        "f1 = f1_score(y_test, y_pred_rfe)\n",
        "\n",
        "mathew = matthews_corrcoef(y_test, y_pred_rfe)\n",
        "model_results = pd.DataFrame([['Random Forest',acc, prec, rec, specificity, f1, roc, loss_log, mathew]], columns = ['Model', 'Accuracy', 'Precision', 'Sensitivity','Specificity','F1 Score','ROC','Log_Loss','mathew-corrcoef'])\n",
        "\n",
        "model_results"
      ],
      "execution_count": null,
      "outputs": [
        {
          "output_type": "execute_result",
          "data": {
            "text/html": [
              "<div>\n",
              "<style scoped>\n",
              "    .dataframe tbody tr th:only-of-type {\n",
              "        vertical-align: middle;\n",
              "    }\n",
              "\n",
              "    .dataframe tbody tr th {\n",
              "        vertical-align: top;\n",
              "    }\n",
              "\n",
              "    .dataframe thead th {\n",
              "        text-align: right;\n",
              "    }\n",
              "</style>\n",
              "<table border=\"1\" class=\"dataframe\">\n",
              "  <thead>\n",
              "    <tr style=\"text-align: right;\">\n",
              "      <th></th>\n",
              "      <th>Model</th>\n",
              "      <th>Accuracy</th>\n",
              "      <th>Precision</th>\n",
              "      <th>Sensitivity</th>\n",
              "      <th>Specificity</th>\n",
              "      <th>F1 Score</th>\n",
              "      <th>ROC</th>\n",
              "      <th>Log_Loss</th>\n",
              "      <th>mathew-corrcoef</th>\n",
              "    </tr>\n",
              "  </thead>\n",
              "  <tbody>\n",
              "    <tr>\n",
              "      <th>0</th>\n",
              "      <td>Random Forest</td>\n",
              "      <td>0.902128</td>\n",
              "      <td>0.873134</td>\n",
              "      <td>0.95122</td>\n",
              "      <td>0.848214</td>\n",
              "      <td>0.910506</td>\n",
              "      <td>0.899717</td>\n",
              "      <td>3.380449</td>\n",
              "      <td>0.806549</td>\n",
              "    </tr>\n",
              "  </tbody>\n",
              "</table>\n",
              "</div>"
            ],
            "text/plain": [
              "           Model  Accuracy  Precision  ...       ROC  Log_Loss  mathew-corrcoef\n",
              "0  Random Forest  0.902128   0.873134  ...  0.899717  3.380449         0.806549\n",
              "\n",
              "[1 rows x 9 columns]"
            ]
          },
          "metadata": {
            "tags": []
          },
          "execution_count": 244
        },
        {
          "output_type": "display_data",
          "data": {
            "image/png": "[encoded data removed]",
            "text/plain": [
              "<Figure size 432x288 with 2 Axes>"
            ]
          },
          "metadata": {
            "tags": [],
            "needs_background": "light"
          }
        }
      ]
    },
    {
      "cell_type": "markdown",
      "metadata": {
        "id": "dX3O0jF0W-eu"
      },
      "source": [
        "# comparisons with other models"
      ]
    },
    {
      "cell_type": "code",
      "metadata": {
        "id": "ZcUiMmgCW9v3",
        "colab": {
          "base_uri": "https://localhost:8080/",
          "height": 347
        },
        "outputId": "bc006f11-b93b-4bad-af1e-ed7a7f804e40"
      },
      "source": [
        "data = {             'MLP': y_pred_mlp,\n",
        "                     'KNN': y_pred_knn,\n",
        "                     'Extra tree classifier': y_pred_et100,\n",
        "                     'XGB': y_pred_xgb,\n",
        "                     'SVC': y_pred_sgd,\n",
        "                     'SGD': y_pred_sgd,\n",
        "                     'Adaboost': y_pred_ada,\n",
        "                     'CART': y_pred_decc,\n",
        "                     'GBM': y_pred_gbm }\n",
        "\n",
        "models = pd.DataFrame(data)\n",
        "\n",
        "for column in models:\n",
        "  CM=confusion_matrix(y_test,models[column])\n",
        "\n",
        "  TN = CM[0][0]\n",
        "  FN = CM[1][0]\n",
        "  TP = CM[1][1]\n",
        "  FP = CM[0][1]\n",
        "  specificity = TN/(TN+FP)\n",
        "  loss_log = log_loss(y_test, models[column])\n",
        "  acc = accuracy_score(y_test, models[column])\n",
        "  roc = roc_auc_score(y_test, models[column])\n",
        "  prec = precision_score(y_test, models[column])\n",
        "  f1 = f1_score(y_test, models[column])\n",
        "\n",
        "  mathew = matthews_corrcoef(y_test, models[column])\n",
        "  results = pd.DataFrame([[column, acc, prec, rec, specificity, f1, roc, loss_log, mathew]], columns = ['Model', 'Accuracy','precision', 'Sensitivity','Specificity','F1 Score', 'ROC', 'Log_Loss', 'mathew_corrcoef'])\n",
        "  model_results = model_results.append(results, ignore_index = True)\n",
        "\n",
        "model_results"
      ],
      "execution_count": null,
      "outputs": [
        {
          "output_type": "execute_result",
          "data": {
            "text/html": [
              "<div>\n",
              "<style scoped>\n",
              "    .dataframe tbody tr th:only-of-type {\n",
              "        vertical-align: middle;\n",
              "    }\n",
              "\n",
              "    .dataframe tbody tr th {\n",
              "        vertical-align: top;\n",
              "    }\n",
              "\n",
              "    .dataframe thead th {\n",
              "        text-align: right;\n",
              "    }\n",
              "</style>\n",
              "<table border=\"1\" class=\"dataframe\">\n",
              "  <thead>\n",
              "    <tr style=\"text-align: right;\">\n",
              "      <th></th>\n",
              "      <th>Model</th>\n",
              "      <th>Accuracy</th>\n",
              "      <th>Precision</th>\n",
              "      <th>Sensitivity</th>\n",
              "      <th>Specificity</th>\n",
              "      <th>F1 Score</th>\n",
              "      <th>ROC</th>\n",
              "      <th>Log_Loss</th>\n",
              "      <th>mathew-corrcoef</th>\n",
              "      <th>precision</th>\n",
              "      <th>mathew_corrcoef</th>\n",
              "    </tr>\n",
              "  </thead>\n",
              "  <tbody>\n",
              "    <tr>\n",
              "      <th>0</th>\n",
              "      <td>Random Forest</td>\n",
              "      <td>0.902128</td>\n",
              "      <td>0.873134</td>\n",
              "      <td>0.95122</td>\n",
              "      <td>0.848214</td>\n",
              "      <td>0.910506</td>\n",
              "      <td>0.899717</td>\n",
              "      <td>3.380449</td>\n",
              "      <td>0.806549</td>\n",
              "      <td>NaN</td>\n",
              "      <td>NaN</td>\n",
              "    </tr>\n",
              "    <tr>\n",
              "      <th>1</th>\n",
              "      <td>MLP</td>\n",
              "      <td>0.829787</td>\n",
              "      <td>NaN</td>\n",
              "      <td>0.95122</td>\n",
              "      <td>0.758929</td>\n",
              "      <td>0.846154</td>\n",
              "      <td>0.826619</td>\n",
              "      <td>5.879033</td>\n",
              "      <td>NaN</td>\n",
              "      <td>0.802920</td>\n",
              "      <td>0.661697</td>\n",
              "    </tr>\n",
              "    <tr>\n",
              "      <th>2</th>\n",
              "      <td>KNN</td>\n",
              "      <td>0.808511</td>\n",
              "      <td>NaN</td>\n",
              "      <td>0.95122</td>\n",
              "      <td>0.741071</td>\n",
              "      <td>0.826255</td>\n",
              "      <td>0.805495</td>\n",
              "      <td>6.613907</td>\n",
              "      <td>NaN</td>\n",
              "      <td>0.786765</td>\n",
              "      <td>0.618029</td>\n",
              "    </tr>\n",
              "    <tr>\n",
              "      <th>3</th>\n",
              "      <td>Extra tree classifier</td>\n",
              "      <td>0.893617</td>\n",
              "      <td>NaN</td>\n",
              "      <td>0.95122</td>\n",
              "      <td>0.839286</td>\n",
              "      <td>0.902724</td>\n",
              "      <td>0.891188</td>\n",
              "      <td>3.674399</td>\n",
              "      <td>NaN</td>\n",
              "      <td>0.865672</td>\n",
              "      <td>0.789339</td>\n",
              "    </tr>\n",
              "    <tr>\n",
              "      <th>4</th>\n",
              "      <td>XGB</td>\n",
              "      <td>0.919149</td>\n",
              "      <td>NaN</td>\n",
              "      <td>0.95122</td>\n",
              "      <td>0.892857</td>\n",
              "      <td>0.924303</td>\n",
              "      <td>0.917973</td>\n",
              "      <td>2.792538</td>\n",
              "      <td>NaN</td>\n",
              "      <td>0.906250</td>\n",
              "      <td>0.838384</td>\n",
              "    </tr>\n",
              "    <tr>\n",
              "      <th>5</th>\n",
              "      <td>SVC</td>\n",
              "      <td>0.791489</td>\n",
              "      <td>NaN</td>\n",
              "      <td>0.95122</td>\n",
              "      <td>0.732143</td>\n",
              "      <td>0.809339</td>\n",
              "      <td>0.788836</td>\n",
              "      <td>7.201804</td>\n",
              "      <td>NaN</td>\n",
              "      <td>0.776119</td>\n",
              "      <td>0.582813</td>\n",
              "    </tr>\n",
              "    <tr>\n",
              "      <th>6</th>\n",
              "      <td>SGD</td>\n",
              "      <td>0.791489</td>\n",
              "      <td>NaN</td>\n",
              "      <td>0.95122</td>\n",
              "      <td>0.732143</td>\n",
              "      <td>0.809339</td>\n",
              "      <td>0.788836</td>\n",
              "      <td>7.201804</td>\n",
              "      <td>NaN</td>\n",
              "      <td>0.776119</td>\n",
              "      <td>0.582813</td>\n",
              "    </tr>\n",
              "    <tr>\n",
              "      <th>7</th>\n",
              "      <td>Adaboost</td>\n",
              "      <td>0.834043</td>\n",
              "      <td>NaN</td>\n",
              "      <td>0.95122</td>\n",
              "      <td>0.776786</td>\n",
              "      <td>0.848249</td>\n",
              "      <td>0.831482</td>\n",
              "      <td>5.732052</td>\n",
              "      <td>NaN</td>\n",
              "      <td>0.813433</td>\n",
              "      <td>0.668866</td>\n",
              "    </tr>\n",
              "    <tr>\n",
              "      <th>8</th>\n",
              "      <td>CART</td>\n",
              "      <td>0.829787</td>\n",
              "      <td>NaN</td>\n",
              "      <td>0.95122</td>\n",
              "      <td>0.794643</td>\n",
              "      <td>0.841270</td>\n",
              "      <td>0.828216</td>\n",
              "      <td>5.879019</td>\n",
              "      <td>NaN</td>\n",
              "      <td>0.821705</td>\n",
              "      <td>0.658875</td>\n",
              "    </tr>\n",
              "    <tr>\n",
              "      <th>9</th>\n",
              "      <td>GBM</td>\n",
              "      <td>0.846809</td>\n",
              "      <td>NaN</td>\n",
              "      <td>0.95122</td>\n",
              "      <td>0.785714</td>\n",
              "      <td>0.860465</td>\n",
              "      <td>0.844077</td>\n",
              "      <td>5.291128</td>\n",
              "      <td>NaN</td>\n",
              "      <td>0.822222</td>\n",
              "      <td>0.695152</td>\n",
              "    </tr>\n",
              "  </tbody>\n",
              "</table>\n",
              "</div>"
            ],
            "text/plain": [
              "                   Model  Accuracy  ...  precision  mathew_corrcoef\n",
              "0          Random Forest  0.902128  ...        NaN              NaN\n",
              "1                    MLP  0.829787  ...   0.802920         0.661697\n",
              "2                    KNN  0.808511  ...   0.786765         0.618029\n",
              "3  Extra tree classifier  0.893617  ...   0.865672         0.789339\n",
              "4                    XGB  0.919149  ...   0.906250         0.838384\n",
              "5                    SVC  0.791489  ...   0.776119         0.582813\n",
              "6                    SGD  0.791489  ...   0.776119         0.582813\n",
              "7               Adaboost  0.834043  ...   0.813433         0.668866\n",
              "8                   CART  0.829787  ...   0.821705         0.658875\n",
              "9                    GBM  0.846809  ...   0.822222         0.695152\n",
              "\n",
              "[10 rows x 11 columns]"
            ]
          },
          "metadata": {
            "tags": []
          },
          "execution_count": 245
        }
      ]
    },
    {
      "cell_type": "markdown",
      "metadata": {
        "id": "IgmAmYAecDPU"
      },
      "source": [
        "# ROC AUC Curve"
      ]
    },
    {
      "cell_type": "code",
      "metadata": {
        "id": "GFt7o_UecIGI",
        "colab": {
          "base_uri": "https://localhost:8080/",
          "height": 513
        },
        "outputId": "5524479b-2c9e-476a-ecd8-1c09767fd51f"
      },
      "source": [
        "def roc_auc_plot(y_true, y_proba, label=' ', l='-', lw=1.0):\n",
        "     from sklearn.metrics import roc_curve,roc_auc_score\n",
        "     fpr,tpr,_ = roc_curve(y_true, y_proba[:,1])\n",
        "     ax.plot(fpr, tpr, linestyle = l, linewidth = lw, label = \"%s (area=%.3f)\"%(label,roc_auc_score(y_true, y_proba[:,1])))\n",
        "f, ax = plt.subplots(figsize=(12,8))\n",
        "\n",
        "\n",
        "roc_auc_plot(y_test, rf_ent.predict_proba(X_test), label = 'Random Forest Classifier',l='-')\n",
        "roc_auc_plot(y_test, et_100.predict_proba(X_test), label = 'Extra Tree Classifier',l='-')\n",
        "roc_auc_plot(y_test, xgb.predict_proba(X_test), label = 'XGboost',l='-')\n",
        "\n",
        "ax.plot([0,1], [0,1], color='k', linewidth=0.5, linestyle='--')\n",
        "\n",
        "ax.legend(loc=\"lower right\")\n",
        "ax.set_xlabel('False Positive Rate')\n",
        "ax.set_ylabel('True Positive Rate')\n",
        "ax.set_xlim([0,1])\n",
        "ax.set_ylim([0,1])\n",
        "ax.set_title('Receiver Operator Characteristic Curves ')\n",
        "sns.despine()"
      ],
      "execution_count": null,
      "outputs": [
        {
          "output_type": "display_data",
          "data": {
            "image/png": "[encoded data removed]",
            "text/plain": [
              "<Figure size 864x576 with 1 Axes>"
            ]
          },
          "metadata": {
            "tags": [],
            "needs_background": "light"
          }
        }
      ]
    },
    {
      "cell_type": "markdown",
      "metadata": {
        "id": "JDul7Da3gt7D"
      },
      "source": [
        "# Precision recall curve"
      ]
    },
    {
      "cell_type": "code",
      "metadata": {
        "id": "hXPS2Og9gyTI",
        "colab": {
          "base_uri": "https://localhost:8080/",
          "height": 621
        },
        "outputId": "3396de6a-68ad-43dc-e782-a52f877627da"
      },
      "source": [
        "def precision_recall_plot(y_true, y_proba, label=' ',l='-', lw=1.0):\n",
        "     from sklearn.metrics import precision_recall_curve, average_precision_score\n",
        "     precision, recall, _ = precision_recall_curve(y_test, y_proba[:,1])\n",
        "     average_precision = average_precision_score(y_test, y_proba[:,1], average = \"micro\")\n",
        "     ax.plot(recall, precision, label='%s (average=%.3f)' %(label,average_precision),linestyle = l, linewidth = lw)\n",
        "\n",
        "f, ax = plt.subplots(figsize=(14,10))\n",
        "\n",
        "precision_recall_plot(y_test, rf_ent.predict_proba(X_test),label='Random Forest Classifier',l='-')\n",
        "precision_recall_plot(y_test, et_100.predict_proba(X_test),label='Extra Tree Classifier',l='-')\n",
        "precision_recall_plot(y_test, xgb.predict_proba(X_test),label='XGBoost',l='-')\n",
        "ax.set_xlabel('Recall')\n",
        "ax.set_ylabel('Precision')\n",
        "ax.legend(loc=\"lower left\")\n",
        "ax.grid(True)\n",
        "ax.set_xlim([0,1])\n",
        "ax.set_ylim([0,1])\n",
        "ax.set_title('prediction-recall curves')\n",
        "sns.despine()"
      ],
      "execution_count": null,
      "outputs": [
        {
          "output_type": "display_data",
          "data": {
            "image/png": "[encoded data removed]",
            "text/plain": [
              "<Figure size 1008x720 with 1 Axes>"
            ]
          },
          "metadata": {
            "tags": [],
            "needs_background": "light"
          }
        }
      ]
    },
    {
      "cell_type": "markdown",
      "metadata": {
        "id": "FqrpzBc_R9Xr"
      },
      "source": [
        "# Feature selection"
      ]
    },
    {
      "cell_type": "code",
      "metadata": {
        "id": "78As-b01R82N",
        "colab": {
          "base_uri": "https://localhost:8080/"
        },
        "outputId": "579301e0-aa3c-4688-f613-79eec71e7d1b"
      },
      "source": [
        "num_feats = 11\n",
        "\n",
        "def cor_selector(X, y,num_feats):\n",
        "  cor_list = []\n",
        "  feature_name = X.columns.tolist()\n",
        "\n",
        "  # calculate the correlation with y for each feature\n",
        "  for i in X.columns.tolist():\n",
        "    cor = np.corrcoef(X[i],y)[0,1]\n",
        "    cor_list.append(cor)\n",
        "\n",
        "  # replace NaN with 0\n",
        "  cor_list = [0 if np.isnan(i) else i for i in cor_list]\n",
        "\n",
        "  # feature name\n",
        "  cor_feature = X.iloc[:,np.argsort(np.abs(cor_list))[-num_feats:]].columns.tolist()\n",
        "\n",
        "  # feature selection? 0 for not select, 1 for select\n",
        "  cor_support = [True if i in cor_feature else False for i in feature_name]\n",
        "  return cor_support, cor_feature\n",
        "cor_support, cor_feature = cor_selector(X, y,num_feats)\n",
        "print(str(len(cor_feature)), 'selected features')"
      ],
      "execution_count": null,
      "outputs": [
        {
          "output_type": "stream",
          "text": [
            "11 selected features\n"
          ],
          "name": "stdout"
        }
      ]
    },
    {
      "cell_type": "code",
      "metadata": {
        "id": "yFKLq88dVRtv",
        "colab": {
          "base_uri": "https://localhost:8080/"
        },
        "outputId": "4cb28a0c-8e28-42b5-e19d-d048afead664"
      },
      "source": [
        "from sklearn.feature_selection import SelectKBest\n",
        "from sklearn.feature_selection import chi2\n",
        "from sklearn.preprocessing import MinMaxScaler\n",
        "X_norm = MinMaxScaler().fit_transform(X)\n",
        "chi_selector = SelectKBest(chi2, k=num_feats)\n",
        "chi_selector.fit(X_norm, y)\n",
        "chi_support = chi_selector.get_support()\n",
        "chi_feature = X.loc[:,chi_support].columns.tolist()\n",
        "print(str(len(chi_feature)), 'selected features')"
      ],
      "execution_count": null,
      "outputs": [
        {
          "output_type": "stream",
          "text": [
            "11 selected features\n"
          ],
          "name": "stdout"
        }
      ]
    },
    {
      "cell_type": "code",
      "metadata": {
        "id": "ZDjFBXs6iyTh",
        "colab": {
          "base_uri": "https://localhost:8080/"
        },
        "outputId": "9f9182c2-2a51-49ac-d461-f0cfd57b248a"
      },
      "source": [
        "from sklearn.feature_selection import RFE\n",
        "from sklearn.linear_model import LogisticRegression\n",
        "rfe_selector = RFE(estimator=LogisticRegression(), n_features_to_select=num_feats, step=10, verbose=5)\n",
        "rfe_selector.fit(X_norm, y)\n",
        "rfe_support = rfe_selector.get_support()\n",
        "rfe_feature = X.loc[:, rfe_support].columns.tolist()\n",
        "print(str(len(rfe_feature)),'selected features')"
      ],
      "execution_count": null,
      "outputs": [
        {
          "output_type": "stream",
          "text": [
            "Fitting estimator with 15 features.\n",
            "11 selected features\n"
          ],
          "name": "stdout"
        }
      ]
    },
    {
      "cell_type": "code",
      "metadata": {
        "id": "pda0PEPGW8kx",
        "colab": {
          "base_uri": "https://localhost:8080/"
        },
        "outputId": "ba11c057-212a-47e0-e855-ab6c4e756fda"
      },
      "source": [
        "from sklearn.feature_selection import SelectFromModel\n",
        "from sklearn.linear_model import LogisticRegression\n",
        "\n",
        "embeded_lr_selector = SelectFromModel(LogisticRegression(penalty='l2', solver='lbfgs'),max_features=num_feats)\n",
        "embeded_lr_selector.fit(X_norm, y)\n",
        "\n",
        "embeded_lr_support = embeded_lr_selector.get_support()\n",
        "embeded_lr_feature = X.loc[:, embeded_lr_support].columns.tolist()\n",
        "print(str(len(embeded_lr_feature)),'selected features')"
      ],
      "execution_count": null,
      "outputs": [
        {
          "output_type": "stream",
          "text": [
            "7 selected features\n"
          ],
          "name": "stdout"
        }
      ]
    },
    {
      "cell_type": "code",
      "metadata": {
        "id": "BMSlTD_7ga3_",
        "colab": {
          "base_uri": "https://localhost:8080/"
        },
        "outputId": "76a269e0-954f-4de1-d73a-755ce6e1a5b3"
      },
      "source": [
        "from sklearn.feature_selection import SelectFromModel\n",
        "from sklearn.ensemble import RandomForestClassifier\n",
        "\n",
        "embeded_rf_selector = SelectFromModel(RandomForestClassifier(n_estimators=100, criterion='gini'),max_features=num_feats)\n",
        "embeded_rf_selector.fit(X, y)\n",
        "\n",
        "embeded_rf_support = embeded_rf_selector.get_support()\n",
        "embeded_rf_feature = X.loc[:, embeded_rf_support].columns.tolist()\n",
        "print(str(len(embeded_rf_feature)),'selected features')"
      ],
      "execution_count": null,
      "outputs": [
        {
          "output_type": "stream",
          "text": [
            "8 selected features\n"
          ],
          "name": "stdout"
        }
      ]
    },
    {
      "cell_type": "code",
      "metadata": {
        "id": "kBu5PHQbiW2z",
        "colab": {
          "base_uri": "https://localhost:8080/"
        },
        "outputId": "9149e85d-81c5-44f8-c4ef-2d00e4302fea"
      },
      "source": [
        "from sklearn.feature_selection import SelectFromModel\n",
        "from lightgbm import LGBMClassifier\n",
        "\n",
        "lgbc = LGBMClassifier(n_estimators=500, learning_rate=0.05, num_leaves=32, colsample_bytree=0.2,reg_alpha=3, reg_lambda=1, min_split_gain=0.01, min_child_weight=40)\n",
        "\n",
        "embeded_lgb_selector = SelectFromModel(lgbc, max_features=num_feats)\n",
        "embeded_lgb_selector.fit(X, y)\n",
        "\n",
        "embeded_lgb_support = embeded_lgb_selector.get_support()\n",
        "embeded_lgb_feature = X.loc[:, embeded_lgb_support].columns.tolist()\n",
        "print(str(len(embeded_lgb_feature)), 'selected featurs')"
      ],
      "execution_count": null,
      "outputs": [
        {
          "output_type": "stream",
          "text": [
            "7 selected featurs\n"
          ],
          "name": "stdout"
        }
      ]
    },
    {
      "cell_type": "code",
      "metadata": {
        "id": "sbLCuTNCnEQL",
        "colab": {
          "base_uri": "https://localhost:8080/",
          "height": 377
        },
        "outputId": "c604eea9-3c2c-4efc-fe27-55a3a4902da4"
      },
      "source": [
        "# put all selection together\n",
        "feature_name = X.columns\n",
        "feature_selection_df = pd.DataFrame({'Feature':feature_name, 'Pearson':cor_support, 'chi-2':chi_support, 'RFE':chi_support,'Logistics':embeded_lr_support, 'Random Forest':embeded_rf_support, 'LightGBM': embeded_lgb_support })\n",
        "\n",
        "# count the selected times for each features\n",
        "feature_selection_df['Total'] = np.sum(feature_selection_df, axis=1)\n",
        "\n",
        "# display the top 100\n",
        "feature_selection_df = feature_selection_df.sort_values(['Total','Feature'], ascending=False)\n",
        "feature_selection_df.index = range(1, len(feature_selection_df)+1)\n",
        "feature_selection_df.head(num_feats)"
      ],
      "execution_count": null,
      "outputs": [
        {
          "output_type": "execute_result",
          "data": {
            "text/html": [
              "<div>\n",
              "<style scoped>\n",
              "    .dataframe tbody tr th:only-of-type {\n",
              "        vertical-align: middle;\n",
              "    }\n",
              "\n",
              "    .dataframe tbody tr th {\n",
              "        vertical-align: top;\n",
              "    }\n",
              "\n",
              "    .dataframe thead th {\n",
              "        text-align: right;\n",
              "    }\n",
              "</style>\n",
              "<table border=\"1\" class=\"dataframe\">\n",
              "  <thead>\n",
              "    <tr style=\"text-align: right;\">\n",
              "      <th></th>\n",
              "      <th>Feature</th>\n",
              "      <th>Pearson</th>\n",
              "      <th>chi-2</th>\n",
              "      <th>RFE</th>\n",
              "      <th>Logistics</th>\n",
              "      <th>Random Forest</th>\n",
              "      <th>LightGBM</th>\n",
              "      <th>Total</th>\n",
              "    </tr>\n",
              "  </thead>\n",
              "  <tbody>\n",
              "    <tr>\n",
              "      <th>1</th>\n",
              "      <td>st_slope_flat</td>\n",
              "      <td>True</td>\n",
              "      <td>True</td>\n",
              "      <td>True</td>\n",
              "      <td>True</td>\n",
              "      <td>True</td>\n",
              "      <td>True</td>\n",
              "      <td>6</td>\n",
              "    </tr>\n",
              "    <tr>\n",
              "      <th>2</th>\n",
              "      <td>st_depression</td>\n",
              "      <td>True</td>\n",
              "      <td>True</td>\n",
              "      <td>True</td>\n",
              "      <td>True</td>\n",
              "      <td>True</td>\n",
              "      <td>True</td>\n",
              "      <td>6</td>\n",
              "    </tr>\n",
              "    <tr>\n",
              "      <th>3</th>\n",
              "      <td>max_heart_rate</td>\n",
              "      <td>True</td>\n",
              "      <td>True</td>\n",
              "      <td>True</td>\n",
              "      <td>False</td>\n",
              "      <td>True</td>\n",
              "      <td>True</td>\n",
              "      <td>5</td>\n",
              "    </tr>\n",
              "    <tr>\n",
              "      <th>4</th>\n",
              "      <td>exercise_induced_angina</td>\n",
              "      <td>True</td>\n",
              "      <td>True</td>\n",
              "      <td>True</td>\n",
              "      <td>False</td>\n",
              "      <td>True</td>\n",
              "      <td>True</td>\n",
              "      <td>5</td>\n",
              "    </tr>\n",
              "    <tr>\n",
              "      <th>5</th>\n",
              "      <td>age</td>\n",
              "      <td>True</td>\n",
              "      <td>True</td>\n",
              "      <td>True</td>\n",
              "      <td>False</td>\n",
              "      <td>True</td>\n",
              "      <td>True</td>\n",
              "      <td>5</td>\n",
              "    </tr>\n",
              "    <tr>\n",
              "      <th>6</th>\n",
              "      <td>st_slope_upsloping</td>\n",
              "      <td>True</td>\n",
              "      <td>True</td>\n",
              "      <td>True</td>\n",
              "      <td>False</td>\n",
              "      <td>True</td>\n",
              "      <td>False</td>\n",
              "      <td>4</td>\n",
              "    </tr>\n",
              "    <tr>\n",
              "      <th>7</th>\n",
              "      <td>sex_male</td>\n",
              "      <td>True</td>\n",
              "      <td>True</td>\n",
              "      <td>True</td>\n",
              "      <td>True</td>\n",
              "      <td>False</td>\n",
              "      <td>False</td>\n",
              "      <td>4</td>\n",
              "    </tr>\n",
              "    <tr>\n",
              "      <th>8</th>\n",
              "      <td>cholesterol</td>\n",
              "      <td>True</td>\n",
              "      <td>False</td>\n",
              "      <td>False</td>\n",
              "      <td>True</td>\n",
              "      <td>True</td>\n",
              "      <td>True</td>\n",
              "      <td>4</td>\n",
              "    </tr>\n",
              "    <tr>\n",
              "      <th>9</th>\n",
              "      <td>chest_pain_type_non-anginal pain</td>\n",
              "      <td>True</td>\n",
              "      <td>True</td>\n",
              "      <td>True</td>\n",
              "      <td>True</td>\n",
              "      <td>False</td>\n",
              "      <td>False</td>\n",
              "      <td>4</td>\n",
              "    </tr>\n",
              "    <tr>\n",
              "      <th>10</th>\n",
              "      <td>chest_pain_type_atypical angina</td>\n",
              "      <td>True</td>\n",
              "      <td>True</td>\n",
              "      <td>True</td>\n",
              "      <td>True</td>\n",
              "      <td>False</td>\n",
              "      <td>False</td>\n",
              "      <td>4</td>\n",
              "    </tr>\n",
              "    <tr>\n",
              "      <th>11</th>\n",
              "      <td>fasting_blood_sugar</td>\n",
              "      <td>True</td>\n",
              "      <td>True</td>\n",
              "      <td>True</td>\n",
              "      <td>False</td>\n",
              "      <td>False</td>\n",
              "      <td>False</td>\n",
              "      <td>3</td>\n",
              "    </tr>\n",
              "  </tbody>\n",
              "</table>\n",
              "</div>"
            ],
            "text/plain": [
              "                             Feature  Pearson  ...  LightGBM  Total\n",
              "1                      st_slope_flat     True  ...      True      6\n",
              "2                      st_depression     True  ...      True      6\n",
              "3                     max_heart_rate     True  ...      True      5\n",
              "4            exercise_induced_angina     True  ...      True      5\n",
              "5                                age     True  ...      True      5\n",
              "6                 st_slope_upsloping     True  ...     False      4\n",
              "7                           sex_male     True  ...     False      4\n",
              "8                        cholesterol     True  ...      True      4\n",
              "9   chest_pain_type_non-anginal pain     True  ...     False      4\n",
              "10   chest_pain_type_atypical angina     True  ...     False      4\n",
              "11               fasting_blood_sugar     True  ...     False      3\n",
              "\n",
              "[11 rows x 8 columns]"
            ]
          },
          "metadata": {
            "tags": []
          },
          "execution_count": 254
        }
      ]
    },
    {
      "cell_type": "code",
      "metadata": {
        "id": "5BFbEb0EqRRw"
      },
      "source": [
        "# segregating dataset into features i.e. X and target variable i.e., y\n",
        "X = df1.drop(['target','resting_blood_pressure', 'sex_male', 'chest_pain_type_non-anginal pain','chest_pain_type_atypical angina'],axis=1)\n",
        "y = df1['target']"
      ],
      "execution_count": null,
      "outputs": []
    },
    {
      "cell_type": "code",
      "metadata": {
        "id": "UqHmRoB8raZ0"
      },
      "source": [
        "X_train, X_test,y_train, y_test = train_test_split(X, y,stratify=y, test_size=0.2,shuffle=True, random_state=5)"
      ],
      "execution_count": null,
      "outputs": []
    },
    {
      "cell_type": "code",
      "metadata": {
        "id": "xLmIOk3gr3_Q",
        "colab": {
          "base_uri": "https://localhost:8080/",
          "height": 251
        },
        "outputId": "7f50c68f-30bf-4c07-a96e-9bd53dd707a5"
      },
      "source": [
        "from sklearn.preprocessing import MinMaxScaler\n",
        "scaler = MinMaxScaler()\n",
        "X_train[['age','cholesterol','max_heart_rate','st_depression']] = scaler.fit_transform(X_train[['age','cholesterol','max_heart_rate','st_depression']])\n",
        "X_train.head()"
      ],
      "execution_count": null,
      "outputs": [
        {
          "output_type": "execute_result",
          "data": {
            "text/html": [
              "<div>\n",
              "<style scoped>\n",
              "    .dataframe tbody tr th:only-of-type {\n",
              "        vertical-align: middle;\n",
              "    }\n",
              "\n",
              "    .dataframe tbody tr th {\n",
              "        vertical-align: top;\n",
              "    }\n",
              "\n",
              "    .dataframe thead th {\n",
              "        text-align: right;\n",
              "    }\n",
              "</style>\n",
              "<table border=\"1\" class=\"dataframe\">\n",
              "  <thead>\n",
              "    <tr style=\"text-align: right;\">\n",
              "      <th></th>\n",
              "      <th>age</th>\n",
              "      <th>cholesterol</th>\n",
              "      <th>fasting_blood_sugar</th>\n",
              "      <th>max_heart_rate</th>\n",
              "      <th>exercise_induced_angina</th>\n",
              "      <th>st_depression</th>\n",
              "      <th>chest_pain_type_typical angina</th>\n",
              "      <th>rest_ecg_left ventricular hypertropy</th>\n",
              "      <th>rest_ecg_normal</th>\n",
              "      <th>st_slope_flat</th>\n",
              "      <th>st_slope_upsloping</th>\n",
              "    </tr>\n",
              "  </thead>\n",
              "  <tbody>\n",
              "    <tr>\n",
              "      <th>478</th>\n",
              "      <td>0.673469</td>\n",
              "      <td>0.000000</td>\n",
              "      <td>1</td>\n",
              "      <td>0.303704</td>\n",
              "      <td>1</td>\n",
              "      <td>0.454545</td>\n",
              "      <td>0</td>\n",
              "      <td>0</td>\n",
              "      <td>1</td>\n",
              "      <td>0</td>\n",
              "      <td>0</td>\n",
              "    </tr>\n",
              "    <tr>\n",
              "      <th>253</th>\n",
              "      <td>0.673469</td>\n",
              "      <td>0.594705</td>\n",
              "      <td>0</td>\n",
              "      <td>0.355556</td>\n",
              "      <td>1</td>\n",
              "      <td>0.194805</td>\n",
              "      <td>0</td>\n",
              "      <td>0</td>\n",
              "      <td>0</td>\n",
              "      <td>0</td>\n",
              "      <td>1</td>\n",
              "    </tr>\n",
              "    <tr>\n",
              "      <th>273</th>\n",
              "      <td>0.551020</td>\n",
              "      <td>0.409369</td>\n",
              "      <td>0</td>\n",
              "      <td>0.466667</td>\n",
              "      <td>1</td>\n",
              "      <td>0.584416</td>\n",
              "      <td>0</td>\n",
              "      <td>0</td>\n",
              "      <td>1</td>\n",
              "      <td>1</td>\n",
              "      <td>0</td>\n",
              "    </tr>\n",
              "    <tr>\n",
              "      <th>111</th>\n",
              "      <td>0.591837</td>\n",
              "      <td>0.519348</td>\n",
              "      <td>0</td>\n",
              "      <td>0.185185</td>\n",
              "      <td>1</td>\n",
              "      <td>0.584416</td>\n",
              "      <td>0</td>\n",
              "      <td>0</td>\n",
              "      <td>1</td>\n",
              "      <td>1</td>\n",
              "      <td>0</td>\n",
              "    </tr>\n",
              "    <tr>\n",
              "      <th>50</th>\n",
              "      <td>0.448980</td>\n",
              "      <td>0.474542</td>\n",
              "      <td>0</td>\n",
              "      <td>0.400000</td>\n",
              "      <td>1</td>\n",
              "      <td>0.454545</td>\n",
              "      <td>0</td>\n",
              "      <td>0</td>\n",
              "      <td>1</td>\n",
              "      <td>1</td>\n",
              "      <td>0</td>\n",
              "    </tr>\n",
              "  </tbody>\n",
              "</table>\n",
              "</div>"
            ],
            "text/plain": [
              "          age  cholesterol  ...  st_slope_flat  st_slope_upsloping\n",
              "478  0.673469     0.000000  ...              0                   0\n",
              "253  0.673469     0.594705  ...              0                   1\n",
              "273  0.551020     0.409369  ...              1                   0\n",
              "111  0.591837     0.519348  ...              1                   0\n",
              "50   0.448980     0.474542  ...              1                   0\n",
              "\n",
              "[5 rows x 11 columns]"
            ]
          },
          "metadata": {
            "tags": []
          },
          "execution_count": 257
        }
      ]
    },
    {
      "cell_type": "code",
      "metadata": {
        "id": "1_4ohRNBsP5D",
        "colab": {
          "base_uri": "https://localhost:8080/",
          "height": 251
        },
        "outputId": "21d48f8c-4d72-4f97-d926-7ab0289c6d3a"
      },
      "source": [
        "X_test[['age','cholesterol','max_heart_rate','st_depression']] = scaler.transform(X_test[['age','cholesterol','max_heart_rate','st_depression']])\n",
        "X_test.head()"
      ],
      "execution_count": null,
      "outputs": [
        {
          "output_type": "execute_result",
          "data": {
            "text/html": [
              "<div>\n",
              "<style scoped>\n",
              "    .dataframe tbody tr th:only-of-type {\n",
              "        vertical-align: middle;\n",
              "    }\n",
              "\n",
              "    .dataframe tbody tr th {\n",
              "        vertical-align: top;\n",
              "    }\n",
              "\n",
              "    .dataframe thead th {\n",
              "        text-align: right;\n",
              "    }\n",
              "</style>\n",
              "<table border=\"1\" class=\"dataframe\">\n",
              "  <thead>\n",
              "    <tr style=\"text-align: right;\">\n",
              "      <th></th>\n",
              "      <th>age</th>\n",
              "      <th>cholesterol</th>\n",
              "      <th>fasting_blood_sugar</th>\n",
              "      <th>max_heart_rate</th>\n",
              "      <th>exercise_induced_angina</th>\n",
              "      <th>st_depression</th>\n",
              "      <th>chest_pain_type_typical angina</th>\n",
              "      <th>rest_ecg_left ventricular hypertropy</th>\n",
              "      <th>rest_ecg_normal</th>\n",
              "      <th>st_slope_flat</th>\n",
              "      <th>st_slope_upsloping</th>\n",
              "    </tr>\n",
              "  </thead>\n",
              "  <tbody>\n",
              "    <tr>\n",
              "      <th>1024</th>\n",
              "      <td>0.693878</td>\n",
              "      <td>0.572301</td>\n",
              "      <td>0</td>\n",
              "      <td>0.266667</td>\n",
              "      <td>0</td>\n",
              "      <td>0.376623</td>\n",
              "      <td>0</td>\n",
              "      <td>1</td>\n",
              "      <td>0</td>\n",
              "      <td>1</td>\n",
              "      <td>0</td>\n",
              "    </tr>\n",
              "    <tr>\n",
              "      <th>182</th>\n",
              "      <td>0.469388</td>\n",
              "      <td>0.456212</td>\n",
              "      <td>0</td>\n",
              "      <td>0.614815</td>\n",
              "      <td>0</td>\n",
              "      <td>0.194805</td>\n",
              "      <td>0</td>\n",
              "      <td>0</td>\n",
              "      <td>1</td>\n",
              "      <td>0</td>\n",
              "      <td>1</td>\n",
              "    </tr>\n",
              "    <tr>\n",
              "      <th>785</th>\n",
              "      <td>0.346939</td>\n",
              "      <td>0.480652</td>\n",
              "      <td>0</td>\n",
              "      <td>0.629630</td>\n",
              "      <td>1</td>\n",
              "      <td>0.220779</td>\n",
              "      <td>0</td>\n",
              "      <td>1</td>\n",
              "      <td>0</td>\n",
              "      <td>1</td>\n",
              "      <td>0</td>\n",
              "    </tr>\n",
              "    <tr>\n",
              "      <th>924</th>\n",
              "      <td>0.591837</td>\n",
              "      <td>0.562118</td>\n",
              "      <td>0</td>\n",
              "      <td>0.333333</td>\n",
              "      <td>1</td>\n",
              "      <td>0.272727</td>\n",
              "      <td>0</td>\n",
              "      <td>1</td>\n",
              "      <td>0</td>\n",
              "      <td>1</td>\n",
              "      <td>0</td>\n",
              "    </tr>\n",
              "    <tr>\n",
              "      <th>780</th>\n",
              "      <td>0.612245</td>\n",
              "      <td>0.527495</td>\n",
              "      <td>0</td>\n",
              "      <td>0.466667</td>\n",
              "      <td>1</td>\n",
              "      <td>0.584416</td>\n",
              "      <td>0</td>\n",
              "      <td>1</td>\n",
              "      <td>0</td>\n",
              "      <td>1</td>\n",
              "      <td>0</td>\n",
              "    </tr>\n",
              "  </tbody>\n",
              "</table>\n",
              "</div>"
            ],
            "text/plain": [
              "           age  cholesterol  ...  st_slope_flat  st_slope_upsloping\n",
              "1024  0.693878     0.572301  ...              1                   0\n",
              "182   0.469388     0.456212  ...              0                   1\n",
              "785   0.346939     0.480652  ...              1                   0\n",
              "924   0.591837     0.562118  ...              1                   0\n",
              "780   0.612245     0.527495  ...              1                   0\n",
              "\n",
              "[5 rows x 11 columns]"
            ]
          },
          "metadata": {
            "tags": []
          },
          "execution_count": 258
        }
      ]
    },
    {
      "cell_type": "code",
      "metadata": {
        "colab": {
          "base_uri": "https://localhost:8080/"
        },
        "id": "SsT7xqbe_bNE",
        "outputId": "3e194474-991b-4503-ae72-0ac1ac623724"
      },
      "source": [
        "import xgboost as xgb\n",
        "models = GetBasedModel()\n",
        "names,results = BasedLine2(X_train, y_train,models)"
      ],
      "execution_count": null,
      "outputs": [
        {
          "output_type": "stream",
          "text": [
            "LR_L2: 0.822878 (0.047967)\n",
            "LDA: 0.822867 (0.043305)\n",
            "KNN7: 0.807904 (0.044339)\n",
            "KNN5: 0.803660 (0.045820)\n",
            "KNN9: 0.815374 (0.036848)\n",
            "KNN11: 0.809037 (0.042388)\n",
            "CART: 0.874056 (0.031621)\n",
            "NB: 0.822889 (0.042157)\n",
            "SVM Linear: 0.815488 (0.045773)\n",
            "SVM RBF: 0.797278 (0.049967)\n",
            "AB: 0.816529 (0.036133)\n",
            "GBM: 0.854884 (0.025105)\n",
            "RF_Ent100: 0.921013 (0.030951)\n",
            "RF_Gini100: 0.917856 (0.029650)\n",
            "ET100: 0.918932 (0.025619)\n",
            "ET500: 0.922123 (0.025580)\n",
            "MLP: 0.837760 (0.038385)\n",
            "SGD3000: 0.796134 (0.045485)\n",
            "XGB_2000: 0.901830 (0.041681)\n",
            "XGB_500: 0.887943 (0.039344)\n",
            "XGB_100: 0.850583 (0.028564)\n",
            "XGB_1000: 0.906074 (0.044921)\n",
            "ET1000: 0.922135 (0.028093)\n"
          ],
          "name": "stdout"
        }
      ]
    },
    {
      "cell_type": "markdown",
      "metadata": {
        "id": "nVPIOflsyCKc"
      },
      "source": [
        "# soft voting"
      ]
    },
    {
      "cell_type": "code",
      "metadata": {
        "id": "-csn9dduv7ME"
      },
      "source": [
        "import xgboost as xgb\n",
        "clf1=RandomForestClassifier(criterion='entropy',n_estimators=100)\n",
        "\n",
        "clf2=DecisionTreeClassifier()\n",
        "clf3=xgb.XGBClassifier(n_estimators = 1000)\n",
        "clf4= ExtraTreesClassifier(n_estimators = 500)\n",
        "\n",
        "clf5 = GradientBoostingClassifier(n_estimators = 100,max_features='sqrt')\n",
        "\n",
        "eclf1 = VotingClassifier(estimators=[('rfe',clf1),('decc',clf2),('xgb',clf3),('ET',clf4),('gb',clf5)],voting='soft',weights=[2,1,2,4,1])\n",
        "\n",
        "eclf1.fit(X_train,y_train)\n",
        "y_pred_sv = eclf1.predict(X_test)"
      ],
      "execution_count": null,
      "outputs": []
    },
    {
      "cell_type": "markdown",
      "metadata": {
        "id": "eq4bjBviyICu"
      },
      "source": [
        "# model evalution"
      ]
    },
    {
      "cell_type": "code",
      "metadata": {
        "id": "2fuIcW5ZyGYj",
        "colab": {
          "base_uri": "https://localhost:8080/",
          "height": 325
        },
        "outputId": "a476c2d8-6852-4887-9e0a-39503eba63ba"
      },
      "source": [
        "CM=confusion_matrix(y_test,y_pred_sv)\n",
        "sns.heatmap(CM, annot=True)\n",
        "\n",
        "TN = CM[0][0]\n",
        "FN = CM[1][0]\n",
        "TP = CM[1][1]\n",
        "FP = CM[0][1]\n",
        "specificity = TN/(TN+FP)\n",
        "loss_log = log_loss(y_test, y_pred_sv)\n",
        "acc= accuracy_score(y_test, y_pred_sv)\n",
        "roc=roc_auc_score(y_test, y_pred_sv)\n",
        "prec = precision_score(y_test, y_pred_sv)\n",
        "rec = recall_score(y_test, y_pred_sv)\n",
        "f1 = f1_score(y_test, y_pred_sv)\n",
        "\n",
        "mathew = matthews_corrcoef(y_test, y_pred_sv)\n",
        "model_results =pd.DataFrame([['STacked Classifier2',acc, prec,rec,specificity, f1,roc, loss_log,mathew]],\n",
        "               columns = ['Model', 'Accuracy','Precision', 'Sensitivity','Specificity', 'F1 Score','ROC','Log_Loss','mathew_corrcoef'])\n",
        "\n",
        "model_results\n"
      ],
      "execution_count": null,
      "outputs": [
        {
          "output_type": "execute_result",
          "data": {
            "text/html": [
              "<div>\n",
              "<style scoped>\n",
              "    .dataframe tbody tr th:only-of-type {\n",
              "        vertical-align: middle;\n",
              "    }\n",
              "\n",
              "    .dataframe tbody tr th {\n",
              "        vertical-align: top;\n",
              "    }\n",
              "\n",
              "    .dataframe thead th {\n",
              "        text-align: right;\n",
              "    }\n",
              "</style>\n",
              "<table border=\"1\" class=\"dataframe\">\n",
              "  <thead>\n",
              "    <tr style=\"text-align: right;\">\n",
              "      <th></th>\n",
              "      <th>Model</th>\n",
              "      <th>Accuracy</th>\n",
              "      <th>Precision</th>\n",
              "      <th>Sensitivity</th>\n",
              "      <th>Specificity</th>\n",
              "      <th>F1 Score</th>\n",
              "      <th>ROC</th>\n",
              "      <th>Log_Loss</th>\n",
              "      <th>mathew_corrcoef</th>\n",
              "    </tr>\n",
              "  </thead>\n",
              "  <tbody>\n",
              "    <tr>\n",
              "      <th>0</th>\n",
              "      <td>STacked Classifier2</td>\n",
              "      <td>0.902128</td>\n",
              "      <td>0.873134</td>\n",
              "      <td>0.95122</td>\n",
              "      <td>0.848214</td>\n",
              "      <td>0.910506</td>\n",
              "      <td>0.899717</td>\n",
              "      <td>3.380449</td>\n",
              "      <td>0.806549</td>\n",
              "    </tr>\n",
              "  </tbody>\n",
              "</table>\n",
              "</div>"
            ],
            "text/plain": [
              "                 Model  Accuracy  ...  Log_Loss  mathew_corrcoef\n",
              "0  STacked Classifier2  0.902128  ...  3.380449         0.806549\n",
              "\n",
              "[1 rows x 9 columns]"
            ]
          },
          "metadata": {
            "tags": []
          },
          "execution_count": 261
        },
        {
          "output_type": "display_data",
          "data": {
            "image/png": "[encoded data removed]",
            "text/plain": [
              "<Figure size 432x288 with 2 Axes>"
            ]
          },
          "metadata": {
            "tags": [],
            "needs_background": "light"
          }
        }
      ]
    },
    {
      "cell_type": "code",
      "metadata": {
        "id": "uism9pzMzJCq"
      },
      "source": [
        "rf_ent = RandomForestClassifier(criterion='entropy',n_estimators=100)\n",
        "rf_ent.fit(X_train, y_train)\n",
        "y_pred_rfe = rf_ent.predict(X_test)\n"
      ],
      "execution_count": null,
      "outputs": []
    },
    {
      "cell_type": "code",
      "metadata": {
        "id": "feivO4ZTzLwo"
      },
      "source": [
        "mlp = MLPClassifier()\n",
        "mlp.fit(X_train,y_train)\n",
        "y_pred_mlp = mlp.predict(X_test)"
      ],
      "execution_count": null,
      "outputs": []
    },
    {
      "cell_type": "code",
      "metadata": {
        "id": "MSFg1CnEzVBk"
      },
      "source": [
        "knn = KNeighborsClassifier(9)\n",
        "knn.fit(X_train,y_train)\n",
        "y_pred_knn = knn.predict(X_test)"
      ],
      "execution_count": null,
      "outputs": []
    },
    {
      "cell_type": "code",
      "metadata": {
        "id": "HshK7oABzcjm"
      },
      "source": [
        "et_1000 = ExtraTreesClassifier(n_estimators= 1000)\n",
        "et_1000.fit(X_train,y_train)\n",
        "y_pred_et1000 = et_1000.predict(X_test)"
      ],
      "execution_count": null,
      "outputs": []
    },
    {
      "cell_type": "code",
      "metadata": {
        "id": "lfe8rONpzhoU"
      },
      "source": [
        "xgb = xgb.XGBClassifier(n_estimators= 100)\n",
        "xgb.fit(X_train,y_train)\n",
        "y_pred_xgb = xgb.predict(X_test)"
      ],
      "execution_count": null,
      "outputs": []
    },
    {
      "cell_type": "code",
      "metadata": {
        "id": "AoluTGY4zoDy"
      },
      "source": [
        "svc = SVC(kernel='linear',gamma='auto',probability=True)\n",
        "svc.fit(X_train,y_train)\n",
        "y_pred_svc = svc.predict(X_test)"
      ],
      "execution_count": null,
      "outputs": []
    },
    {
      "cell_type": "code",
      "metadata": {
        "id": "h_lHw9vfztYV"
      },
      "source": [
        "sgd = SGDClassifier(max_iter=1000, tol=1e-4)\n",
        "sgd.fit(X_train,y_train)\n",
        "y_pred_sgd = sgd.predict(X_test)"
      ],
      "execution_count": null,
      "outputs": []
    },
    {
      "cell_type": "code",
      "metadata": {
        "id": "TAtFIg5Uz0uw"
      },
      "source": [
        "ada = AdaBoostClassifier()\n",
        "ada.fit(X_train,y_train)\n",
        "y_pred_ada = ada.predict(X_test)"
      ],
      "execution_count": null,
      "outputs": []
    },
    {
      "cell_type": "code",
      "metadata": {
        "id": "9TcqR0buz8GX"
      },
      "source": [
        "ada = AdaBoostClassifier()\n",
        "ada.fit(X_train,y_train)\n",
        "y_pred_ada = ada.predict(X_test)"
      ],
      "execution_count": null,
      "outputs": []
    },
    {
      "cell_type": "code",
      "metadata": {
        "id": "CuoxDJ1s0UMP"
      },
      "source": [
        "decc = DecisionTreeClassifier()\n",
        "decc.fit(X_train,y_train)\n",
        "y_pred_decc = decc.predict(X_test)"
      ],
      "execution_count": null,
      "outputs": []
    },
    {
      "cell_type": "code",
      "metadata": {
        "id": "1rYwiOPMz_wd"
      },
      "source": [
        "gbm = GradientBoostingClassifier(n_estimators=100,max_features='sqrt')\n",
        "gbm.fit(X_train,y_train)\n",
        "y_pred_gbm = gbm.predict(X_test)"
      ],
      "execution_count": null,
      "outputs": []
    },
    {
      "cell_type": "code",
      "metadata": {
        "id": "CcxY66g802Tq",
        "colab": {
          "base_uri": "https://localhost:8080/",
          "height": 238
        },
        "outputId": "0014b672-f113-4aec-aba2-dc271310608c"
      },
      "source": [
        "\n",
        "data = {\n",
        "             'Random Forest2': y_pred_rfe,\n",
        "                'MLP2': y_pred_mlp,\n",
        "                'KNN2': y_pred_knn,\n",
        "                'EXtra tree classifier2': y_pred_et500,\n",
        "                'XGB2': y_pred_xgb,\n",
        "                'SVC2': y_pred_svc,\n",
        "                'SGD2': y_pred_sgd,\n",
        "                'Adaboost': y_pred_ada,\n",
        "                'CART': y_pred_decc,\n",
        "                'GBM': y_pred_gbm }\n",
        "\n",
        "models = pd.DataFrame(data)\n",
        "\n",
        "for column in models:\n",
        "    CM=confusion_matrix(y_test,models[column])\n",
        "\n",
        "    TN = CM[0][0]\n",
        "    FN = CM[1][0]\n",
        "    TP = CM[1][1]\n",
        "    FP = CM[0][1]\n",
        "    specificity = TN/(TN+FP)\n",
        "    loss_log = log_loss(y_test, models[column])\n",
        "    acc= accuracy_score(y_test, models[column])\n",
        "    roc=roc_auc_score(y_test, models[column])\n",
        "    prec = precision_score(y_test, models[column])\n",
        "    rec = recall_score(y_test, models[column])\n",
        "    f1 = f1_score(y_test, models[column])\n",
        "\n",
        "    mathew = matthews_corrcoef(y_test, models[column])\n",
        "    results =pd.DataFrame([[column,acc, prec,rec,specificity, f1,roc, loss_log,mathew]],\n",
        "               columns = ['Model', 'Accuracy','Precision', 'Sensitivity','Specificity', 'F1 Score','ROC','Log_Loss','mathew_corrcoef'])\n",
        "    model_results = model_results.append(results, ignore_index = True)\n",
        "\n",
        "model_results"
      ],
      "execution_count": null,
      "outputs": [
        {
          "output_type": "error",
          "ename": "NameError",
          "evalue": "ignored",
          "traceback": [
            "\u001b[0;31m---------------------------------------------------------------------------\u001b[0m",
            "\u001b[0;31mNameError\u001b[0m                                 Traceback (most recent call last)",
            "\u001b[0;32m<ipython-input-273-b994dbb5c2ed>\u001b[0m in \u001b[0;36m<module>\u001b[0;34m()\u001b[0m\n\u001b[1;32m      4\u001b[0m                 \u001b[0;34m'MLP2'\u001b[0m\u001b[0;34m:\u001b[0m \u001b[0my_pred_mlp\u001b[0m\u001b[0;34m,\u001b[0m\u001b[0;34m\u001b[0m\u001b[0;34m\u001b[0m\u001b[0m\n\u001b[1;32m      5\u001b[0m                 \u001b[0;34m'KNN2'\u001b[0m\u001b[0;34m:\u001b[0m \u001b[0my_pred_knn\u001b[0m\u001b[0;34m,\u001b[0m\u001b[0;34m\u001b[0m\u001b[0;34m\u001b[0m\u001b[0m\n\u001b[0;32m----> 6\u001b[0;31m                 \u001b[0;34m'EXtra tree classifier2'\u001b[0m\u001b[0;34m:\u001b[0m \u001b[0my_pred_et500\u001b[0m\u001b[0;34m,\u001b[0m\u001b[0;34m\u001b[0m\u001b[0;34m\u001b[0m\u001b[0m\n\u001b[0m\u001b[1;32m      7\u001b[0m                 \u001b[0;34m'XGB2'\u001b[0m\u001b[0;34m:\u001b[0m \u001b[0my_pred_xgb\u001b[0m\u001b[0;34m,\u001b[0m\u001b[0;34m\u001b[0m\u001b[0;34m\u001b[0m\u001b[0m\n\u001b[1;32m      8\u001b[0m                 \u001b[0;34m'SVC2'\u001b[0m\u001b[0;34m:\u001b[0m \u001b[0my_pred_svc\u001b[0m\u001b[0;34m,\u001b[0m\u001b[0;34m\u001b[0m\u001b[0;34m\u001b[0m\u001b[0m\n",
            "\u001b[0;31mNameError\u001b[0m: name 'y_pred_et500' is not defined"
          ]
        }
      ]
    },
    {
      "cell_type": "code",
      "metadata": {
        "id": "T3z77Lfu1WnD"
      },
      "source": [
        "def roc_auc_plot(y_true, y_proba, label=' ', l='-', lw=1.0):\n",
        "    from sklearn.metrics import roc_curve, roc_auc_score\n",
        "    fpr, tpr, _ = roc_curve(y_true, y_proba[:,1])\n",
        "    ax.plot(fpr, tpr, linestyle=l, linewidth=lw,\n",
        "            label=\"%s (area=%.3f)\"%(label,roc_auc_score(y_true, y_proba[:,1])))\n",
        "\n",
        "f, ax = plt.subplots(figsize=(12,8))\n",
        "\n",
        "roc_auc_plot(y_test,eclf1.predict_proba(X_test),label='Soft voting Classifier ',l='-')\n",
        "roc_auc_plot(y_test,rf_ent.predict_proba(X_test),label='Random Forest Classifier ',l='-')\n",
        "roc_auc_plot(y_test,et_1000.predict_proba(X_test),label='Extra Tree Classifier ',l='-')\n",
        "roc_auc_plot(y_test,xgb.predict_proba(X_test),label='XGboost',l='-')\n",
        "\n",
        "ax.plot([0,1], [0,1], color='k', linewidth=0.5, linestyle='--',\n",
        "        )\n",
        "ax.legend(loc=\"lower right\")\n",
        "ax.set_xlabel('False Positive Rate')\n",
        "ax.set_ylabel('True Positive Rate')\n",
        "ax.set_xlim([0, 1])\n",
        "ax.set_ylim([0, 1])\n",
        "ax.set_title('Receiver Operator Characteristic curves')\n",
        "sns.despine()\n"
      ],
      "execution_count": null,
      "outputs": []
    },
    {
      "cell_type": "code",
      "metadata": {
        "id": "-AV1qyoYBvSD"
      },
      "source": [
        "def precision_recall_plot(y_true, y_proba, label=' ',l='-',lw=1.0):\n",
        "  from sklearn.metrics import precision_recall_curve, average_precision_score\n",
        "  precision, recall, _ = precision_recall_curve(y_test, y_proba[:,1])\n",
        "\n",
        "  average_precision = average_precision_score(y_test, y_proba[:,1],average=\"micro\")\n",
        "\n",
        "  ax.plot(recall, precision, label='%s (average=%.3f)'%(label,average_precision),linestyle=l, linewidth=lw)\n",
        "\n",
        "f, ax = plt.subplots(figsize=(14,10))\n",
        "precision_recall_plot(y_test,eclf1.predict_proba(X_test),label='stacking classifier',l='-')\n",
        "precision_recall_plot(y_test,rf_ent.predict_proba(X_test), label='Random Forest Classifier',l='-')\n",
        "precision_recall_plot(y_test,et_1000.predict_proba(X_test),label='Extra Tree Classifier',l='-')\n",
        "precision_recall_plot(y_test,xgb.predict_proba(X_test),label='XGboost',l='-')\n",
        "ax.set_xlabel('recall')\n",
        "ax.set_ylabel('precision')\n",
        "ax.legend(loc=\"lower left\")\n",
        "ax.grid(True)\n",
        "ax.set_xlim([0,1])\n",
        "ax.set_ylim([0,1])\n",
        "ax.set_title('precision-recall_curves')\n",
        "sns.despine()"
      ],
      "execution_count": null,
      "outputs": []
    },
    {
      "cell_type": "markdown",
      "metadata": {
        "id": "pCNHK0BQGnLA"
      },
      "source": [
        "# feature importance"
      ]
    },
    {
      "cell_type": "code",
      "metadata": {
        "id": "bYj_c-9_FowO"
      },
      "source": [
        "feat_importances = pd.Series(rf_ent.feature_importances_, index=X_train.columns)\n",
        "feat_importances.nlargest(20).plot(kind='barh')"
      ],
      "execution_count": null,
      "outputs": []
    }
  ]
}